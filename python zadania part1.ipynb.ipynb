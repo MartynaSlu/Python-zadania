{
  "metadata": {
    "kernelspec": {
      "name": "python",
      "display_name": "Python (Pyodide)",
      "language": "python"
    },
    "language_info": {
      "codemirror_mode": {
        "name": "python",
        "version": 3
      },
      "file_extension": ".py",
      "mimetype": "text/x-python",
      "name": "python",
      "nbconvert_exporter": "python",
      "pygments_lexer": "ipython3",
      "version": "3.8"
    },
    "colab": {
      "name": "Lekcja+9.+Python+-+wprowadzenie.ipynb",
      "provenance": []
    }
  },
  "nbformat_minor": 4,
  "nbformat": 4,
  "cells": [
    {
      "cell_type": "markdown",
      "source": "# Nawigacja w systemie Jupyter-notebook\n\nPo edycji komórki należy nacisnac **`<Shift> + <Enter>`**, aby wykonac instrukcje w niej zawarte. \nTo zatwierdzi wprowadzone zmiany i udostępni je dla innych komórek.\n\n## Rodzaje komórek\n\nW systemie Jupyter-notebook występuja komórki typu Markdown (system znaczników do formatowania tekstu) oraz komórki z kodem.\nWykonanie komórki z kodem spowoduje natychmiastowe wykonanie wszystkich zawartych w niej instrukcji.\nWykonanie komórki typu Markdown spodowuje wyswietlenie sformatowanego tekstu.\n\n## Typowe operacje w Jupyter-notebook\n\nMenu w Jupter-notebook dostarcza standardowe przyciski (`File`, `Edit`, `View`, ...), jak również kilka ikon paska narzędzi.\n\n- Znak '+' służy do dodawania komórki poniżej tej aktualnie zaznaczonej\n- Aby dodac komórkę powyżej, należy użyc 'Insert' -> 'Insert Cell Above'\n\n### Reset\n\n- Wcisniecie \"Kernel\" -> \"Restart\" z menu głównego, powoduje restart calego notebooka.\n- Wcinięcie 'Clear all outputs & restart' spowoduje wyczyszczenie wyników wszystkich komórek\n\n### Zapisywanie notebooka lokalnie\n\n- Clear the output of all cells\n- Wciniecie \"File\" -> \"Download as\" -> \"IPython Notebook (.ipynb)\" powoduje zapisanie notebooka na dysku.\n\n### Załadowanie notebooka\n\n1. Lokalnie poprzez `jupyter-notebook`\n2. https://jupyter.org/try\n<hr>",
      "metadata": {
        "id": "_gBO0yV8k4jj"
      }
    },
    {
      "cell_type": "markdown",
      "source": "# Podstawowe typy obiektów i zmiennych w Pythonie\n\nWszystko w Pythonie jest obiektem, a każdy obiekt ma swój typ.\nKilka podstawowych i najczęciej używanych typów, to:",
      "metadata": {
        "id": "RYztYQMSk4jn"
      }
    },
    {
      "cell_type": "markdown",
      "source": "- **`int`** (integer; typ reprezentujacy liczby całkowite\n  - `7`\n  - `-6`\n- **`float`** (float; typ reprezentujacy liczby z częscia po przecinku)\n  - `2.31`\n  - `-0.002`\n- **`str`** (string; typ reprezentujacy napis)\n  - `'napis tworzony przy pomocy apostrofów'`\n  - `\"napis tworzony przy pomocy cudzysłowu\"`\n  - `'''napis tworzony przy pomocy trzech apostrofów'''`\n  - `\"\"\"napis tworzony przy pomocy trzech cudzysłowów\"\"\"`\n- **`bool`** (boolean; typ reprezentujacy wartosc binarna, Prawda lub Fałsz)\n  - `True`\n  - `False`\n- **`NoneType`** (typ specjalny oznaczajacy brak wartosci)\n  - `None`\n\n*Zmienna* w Pythonie jest to nazwa, która nadajemy aby odnosiic sie do okreslonego *obiektu*, *instancji* lub *wartosci*.\n\n\nDzięki temu, możemy odnosic sie do obiektow poprzez nazwy zrozumiałe dla czlowieka - programisty.\nNazwy zmiennych w języku Python moga zawierac wyłacznie litery, podkreslenia lub liczby (bez spacji, kresek i innych znaków). Nazwa zmiennej musi zaczynac się od litery lub podkreslenia.",
      "metadata": {
        "id": "vfIss_ZQk4jn"
      }
    },
    {
      "cell_type": "markdown",
      "source": "## Przypisanie wartosci do zmiennej",
      "metadata": {
        "id": "kOCdJKH4k4jo"
      }
    },
    {
      "cell_type": "code",
      "source": "# komentarz\n# nazwa_zmiennej = wartość_zmiennej\n# Liczby całkowite\na = 1\nb = - 1\nprint(a, b)",
      "metadata": {
        "colab": {
          "base_uri": "https://localhost:8080/"
        },
        "executionInfo": {
          "elapsed": 6,
          "status": "ok",
          "timestamp": 1626109615481,
          "user": {
            "displayName": "Mateusz Zimoch",
            "photoUrl": "https://lh3.googleusercontent.com/a-/AOh14GhLKHKJhMI_pTIoYkcl8z-E-V849Je8P3XxEzn2DQ=s64",
            "userId": "02738966002905530559"
          },
          "user_tz": -120
        },
        "id": "eRCp_KuGk4jo",
        "outputId": "b5f9a0e3-35f7-4f49-a293-fa39d783a1d7"
      },
      "outputs": [
        {
          "name": "stdout",
          "output_type": "stream",
          "text": "1 -1\n"
        }
      ],
      "execution_count": 1
    },
    {
      "cell_type": "code",
      "source": "# Liczby rzeczywiste\nc = 2.73\nd = 3.14e6 #3.14 * 10^6\nprint(c, d)",
      "metadata": {
        "colab": {
          "base_uri": "https://localhost:8080/"
        },
        "executionInfo": {
          "elapsed": 678,
          "status": "ok",
          "timestamp": 1626109697467,
          "user": {
            "displayName": "Mateusz Zimoch",
            "photoUrl": "https://lh3.googleusercontent.com/a-/AOh14GhLKHKJhMI_pTIoYkcl8z-E-V849Je8P3XxEzn2DQ=s64",
            "userId": "02738966002905530559"
          },
          "user_tz": -120
        },
        "id": "0-wHG9PNk4jp",
        "outputId": "af01e832-5e19-4488-ef44-2769a3303e22"
      },
      "outputs": [
        {
          "name": "stdout",
          "output_type": "stream",
          "text": "2.73 3140000.0\n"
        }
      ],
      "execution_count": 2
    },
    {
      "cell_type": "code",
      "source": "",
      "metadata": {
        "id": "Y52Fy5zXk4jq"
      },
      "outputs": [],
      "execution_count": null
    },
    {
      "cell_type": "code",
      "source": "# Typ napisowy\nnapis = \"Ala ma kota\"\nnapis2 = 'Ala ma psa'\nprint(napis, napis2)\nprint(type(napis))\nprint(type(a))\nprint(type(c))",
      "metadata": {
        "colab": {
          "base_uri": "https://localhost:8080/"
        },
        "executionInfo": {
          "elapsed": 228,
          "status": "ok",
          "timestamp": 1626109928857,
          "user": {
            "displayName": "Mateusz Zimoch",
            "photoUrl": "https://lh3.googleusercontent.com/a-/AOh14GhLKHKJhMI_pTIoYkcl8z-E-V849Je8P3XxEzn2DQ=s64",
            "userId": "02738966002905530559"
          },
          "user_tz": -120
        },
        "id": "qQjgRE4ak4jq",
        "outputId": "b109183a-c9c4-4a86-981b-675d96486940"
      },
      "outputs": [
        {
          "name": "stdout",
          "output_type": "stream",
          "text": "Ala ma kota Ala ma psa\n,<class 'str'>\n,<class 'int'>\n,<class 'float'>\n"
        }
      ],
      "execution_count": 3
    },
    {
      "cell_type": "code",
      "source": "# '' zamiast \"\"\nprint('Ala ma kota')",
      "metadata": {
        "colab": {
          "base_uri": "https://localhost:8080/"
        },
        "executionInfo": {
          "elapsed": 230,
          "status": "ok",
          "timestamp": 1626109936004,
          "user": {
            "displayName": "Mateusz Zimoch",
            "photoUrl": "https://lh3.googleusercontent.com/a-/AOh14GhLKHKJhMI_pTIoYkcl8z-E-V849Je8P3XxEzn2DQ=s64",
            "userId": "02738966002905530559"
          },
          "user_tz": -120
        },
        "id": "dBgmX3Z5k4jq",
        "outputId": "bb5f11af-4555-45a0-a4e6-00fa64809cc4"
      },
      "outputs": [
        {
          "name": "stdout",
          "output_type": "stream",
          "text": "Ala ma kota\n"
        }
      ],
      "execution_count": 4
    },
    {
      "cell_type": "code",
      "source": "# \"\" zagnieżdżone w ''\nprint('Ala ma \"kota\"')",
      "metadata": {
        "colab": {
          "base_uri": "https://localhost:8080/"
        },
        "executionInfo": {
          "elapsed": 240,
          "status": "ok",
          "timestamp": 1626109945179,
          "user": {
            "displayName": "Mateusz Zimoch",
            "photoUrl": "https://lh3.googleusercontent.com/a-/AOh14GhLKHKJhMI_pTIoYkcl8z-E-V849Je8P3XxEzn2DQ=s64",
            "userId": "02738966002905530559"
          },
          "user_tz": -120
        },
        "id": "TZ1ozWedk4jr",
        "outputId": "f96df866-2ee4-45c9-c5ab-49bfa0fd5ae6"
      },
      "outputs": [
        {
          "name": "stdout",
          "output_type": "stream",
          "text": "Ala ma \"kota\"\n"
        }
      ],
      "execution_count": 5
    },
    {
      "cell_type": "code",
      "source": "# Nowa linia i tabulacja\n# nowa linia \\n\n# tabulacja \\t\nprint(\"Ala\\nma\\t\\tkota\")",
      "metadata": {
        "colab": {
          "base_uri": "https://localhost:8080/"
        },
        "executionInfo": {
          "elapsed": 261,
          "status": "ok",
          "timestamp": 1626110019302,
          "user": {
            "displayName": "Mateusz Zimoch",
            "photoUrl": "https://lh3.googleusercontent.com/a-/AOh14GhLKHKJhMI_pTIoYkcl8z-E-V849Je8P3XxEzn2DQ=s64",
            "userId": "02738966002905530559"
          },
          "user_tz": -120
        },
        "id": "B6eB_zrdk4jr",
        "outputId": "00c1a01e-33e0-410d-a467-4f5bec87934f"
      },
      "outputs": [
        {
          "name": "stdout",
          "output_type": "stream",
          "text": "Ala\n,ma\t\tkota\n"
        }
      ],
      "execution_count": 6
    },
    {
      "cell_type": "code",
      "source": "# Znak nowej linii\nprint(\"Znak nowej linii to: \\n KONIEC\")\nprint(\"Znak nowej linii to: \\\\n KONIEC\")\nprint(r\"Znak nowej linii to: \\n KONIEC\")",
      "metadata": {
        "colab": {
          "base_uri": "https://localhost:8080/"
        },
        "executionInfo": {
          "elapsed": 227,
          "status": "ok",
          "timestamp": 1626110113124,
          "user": {
            "displayName": "Mateusz Zimoch",
            "photoUrl": "https://lh3.googleusercontent.com/a-/AOh14GhLKHKJhMI_pTIoYkcl8z-E-V849Je8P3XxEzn2DQ=s64",
            "userId": "02738966002905530559"
          },
          "user_tz": -120
        },
        "id": "rX7IsauUk4js",
        "outputId": "f81eaf7d-0918-4079-8dc8-423c0fa25285"
      },
      "outputs": [
        {
          "name": "stdout",
          "output_type": "stream",
          "text": "Znak nowej linii to: \n, KONIEC\n,Znak nowej linii to: \\n KONIEC\n,Znak nowej linii to: \\n KONIEC\n"
        }
      ],
      "execution_count": 7
    },
    {
      "cell_type": "code",
      "source": "wartosc = True",
      "metadata": {
        "id": "tuL88gU7k4js"
      },
      "outputs": [],
      "execution_count": 8
    },
    {
      "cell_type": "code",
      "source": "_czy_to_prawda = False\ntype(_czy_to_prawda)",
      "metadata": {
        "colab": {
          "base_uri": "https://localhost:8080/"
        },
        "executionInfo": {
          "elapsed": 231,
          "status": "ok",
          "timestamp": 1626110220053,
          "user": {
            "displayName": "Mateusz Zimoch",
            "photoUrl": "https://lh3.googleusercontent.com/a-/AOh14GhLKHKJhMI_pTIoYkcl8z-E-V849Je8P3XxEzn2DQ=s64",
            "userId": "02738966002905530559"
          },
          "user_tz": -120
        },
        "id": "LGr0NeQ7k4js",
        "outputId": "5fc40ec6-a78f-4ba1-aa18-668ba5002f2d"
      },
      "outputs": [
        {
          "data": {
            "text/plain": [
              "bool"
            ]
          },
          "execution_count": 9,
          "metadata": {},
          "output_type": "execute_result"
        }
      ],
      "execution_count": 9
    },
    {
      "cell_type": "code",
      "source": "print(_czy_to_prawda)",
      "metadata": {
        "colab": {
          "base_uri": "https://localhost:8080/"
        },
        "executionInfo": {
          "elapsed": 229,
          "status": "ok",
          "timestamp": 1626110247536,
          "user": {
            "displayName": "Mateusz Zimoch",
            "photoUrl": "https://lh3.googleusercontent.com/a-/AOh14GhLKHKJhMI_pTIoYkcl8z-E-V849Je8P3XxEzn2DQ=s64",
            "userId": "02738966002905530559"
          },
          "user_tz": -120
        },
        "id": "Da2QKJCnk4jt",
        "outputId": "d1d59178-cf59-4f30-b45e-b75abaf1dbba"
      },
      "outputs": [
        {
          "name": "stdout",
          "output_type": "stream",
          "text": "False\n"
        }
      ],
      "execution_count": 10
    },
    {
      "cell_type": "code",
      "source": "",
      "metadata": {
        "id": "4G7Wdrgok4jt"
      },
      "outputs": [],
      "execution_count": null
    },
    {
      "cell_type": "code",
      "source": "nic = None\ntype(nic)",
      "metadata": {
        "colab": {
          "base_uri": "https://localhost:8080/"
        },
        "executionInfo": {
          "elapsed": 233,
          "status": "ok",
          "timestamp": 1626110287431,
          "user": {
            "displayName": "Mateusz Zimoch",
            "photoUrl": "https://lh3.googleusercontent.com/a-/AOh14GhLKHKJhMI_pTIoYkcl8z-E-V849Je8P3XxEzn2DQ=s64",
            "userId": "02738966002905530559"
          },
          "user_tz": -120
        },
        "id": "_ws18VWTk4jt",
        "outputId": "7356e4ca-344a-44e6-9375-28b004b33c1e"
      },
      "outputs": [
        {
          "data": {
            "text/plain": [
              "NoneType"
            ]
          },
          "execution_count": 11,
          "metadata": {},
          "output_type": "execute_result"
        }
      ],
      "execution_count": 11
    },
    {
      "cell_type": "markdown",
      "source": "# Operatory w Pythonie",
      "metadata": {
        "id": "PzUhiAuLk4ju"
      }
    },
    {
      "cell_type": "markdown",
      "source": "## Operatory arytmetyczne\n\n- **`+`**\n- **`-`**\n- **`*`**\n- **`/`**\n- **`//`** (dzielenie całkowite)\n- __`**`__ (potęgowanie)",
      "metadata": {
        "id": "-tGOJgn8k4ju"
      }
    },
    {
      "cell_type": "code",
      "source": "num1 = 5\nnum2 = -7\nnum3 = 2",
      "metadata": {
        "id": "75AMvPHak4ju"
      },
      "outputs": [],
      "execution_count": 12
    },
    {
      "cell_type": "code",
      "source": "# Dodawanie\nnum4 = num1 + num2",
      "metadata": {
        "id": "batc_12mk4jv"
      },
      "outputs": [],
      "execution_count": 13
    },
    {
      "cell_type": "code",
      "source": "num4",
      "metadata": {
        "colab": {
          "base_uri": "https://localhost:8080/"
        },
        "executionInfo": {
          "elapsed": 239,
          "status": "ok",
          "timestamp": 1626110437746,
          "user": {
            "displayName": "Mateusz Zimoch",
            "photoUrl": "https://lh3.googleusercontent.com/a-/AOh14GhLKHKJhMI_pTIoYkcl8z-E-V849Je8P3XxEzn2DQ=s64",
            "userId": "02738966002905530559"
          },
          "user_tz": -120
        },
        "id": "yhiN8gHyvBbB",
        "outputId": "ff257c9b-b97d-4e01-fc43-31dc3ee4ed8f"
      },
      "outputs": [
        {
          "data": {
            "text/plain": [
              "-2"
            ]
          },
          "execution_count": 14,
          "metadata": {},
          "output_type": "execute_result"
        }
      ],
      "execution_count": 14
    },
    {
      "cell_type": "code",
      "source": "# Odejmowanie\nnum2 - num3",
      "metadata": {
        "colab": {
          "base_uri": "https://localhost:8080/"
        },
        "executionInfo": {
          "elapsed": 237,
          "status": "ok",
          "timestamp": 1626110466405,
          "user": {
            "displayName": "Mateusz Zimoch",
            "photoUrl": "https://lh3.googleusercontent.com/a-/AOh14GhLKHKJhMI_pTIoYkcl8z-E-V849Je8P3XxEzn2DQ=s64",
            "userId": "02738966002905530559"
          },
          "user_tz": -120
        },
        "id": "wQ0cY-4Zk4jv",
        "outputId": "22a7a6fa-30db-49ff-d6ba-7ec9574dd185"
      },
      "outputs": [
        {
          "data": {
            "text/plain": [
              "-9"
            ]
          },
          "execution_count": 15,
          "metadata": {},
          "output_type": "execute_result"
        }
      ],
      "execution_count": 15
    },
    {
      "cell_type": "code",
      "source": "# Mnożenie\nnum3 * num3",
      "metadata": {
        "colab": {
          "base_uri": "https://localhost:8080/"
        },
        "executionInfo": {
          "elapsed": 241,
          "status": "ok",
          "timestamp": 1626110477949,
          "user": {
            "displayName": "Mateusz Zimoch",
            "photoUrl": "https://lh3.googleusercontent.com/a-/AOh14GhLKHKJhMI_pTIoYkcl8z-E-V849Je8P3XxEzn2DQ=s64",
            "userId": "02738966002905530559"
          },
          "user_tz": -120
        },
        "id": "wt4aiCG8k4jw",
        "outputId": "1eb00db6-544e-40cc-83b0-095124781133"
      },
      "outputs": [
        {
          "data": {
            "text/plain": [
              "4"
            ]
          },
          "execution_count": 16,
          "metadata": {},
          "output_type": "execute_result"
        }
      ],
      "execution_count": 16
    },
    {
      "cell_type": "code",
      "source": "# Dzielenie\nnum1 / num3",
      "metadata": {
        "colab": {
          "base_uri": "https://localhost:8080/"
        },
        "executionInfo": {
          "elapsed": 5,
          "status": "ok",
          "timestamp": 1626110479847,
          "user": {
            "displayName": "Mateusz Zimoch",
            "photoUrl": "https://lh3.googleusercontent.com/a-/AOh14GhLKHKJhMI_pTIoYkcl8z-E-V849Je8P3XxEzn2DQ=s64",
            "userId": "02738966002905530559"
          },
          "user_tz": -120
        },
        "id": "hTr_-Twzk4jw",
        "outputId": "23d07aaa-c8e7-4b73-f000-7b6770729c37"
      },
      "outputs": [
        {
          "data": {
            "text/plain": [
              "2.5"
            ]
          },
          "execution_count": 17,
          "metadata": {},
          "output_type": "execute_result"
        }
      ],
      "execution_count": 17
    },
    {
      "cell_type": "code",
      "source": "# Potęgowanie\nnum2 ** num3",
      "metadata": {
        "colab": {
          "base_uri": "https://localhost:8080/"
        },
        "executionInfo": {
          "elapsed": 241,
          "status": "ok",
          "timestamp": 1626110487372,
          "user": {
            "displayName": "Mateusz Zimoch",
            "photoUrl": "https://lh3.googleusercontent.com/a-/AOh14GhLKHKJhMI_pTIoYkcl8z-E-V849Je8P3XxEzn2DQ=s64",
            "userId": "02738966002905530559"
          },
          "user_tz": -120
        },
        "id": "CxJFQ-aOk4jx",
        "outputId": "59e4bf7f-3294-482e-e302-d5ec6dc1a04f"
      },
      "outputs": [
        {
          "data": {
            "text/plain": [
              "49"
            ]
          },
          "execution_count": 18,
          "metadata": {},
          "output_type": "execute_result"
        }
      ],
      "execution_count": 18
    },
    {
      "cell_type": "code",
      "source": "(-7) ** 2",
      "metadata": {},
      "outputs": [
        {
          "data": {
            "text/plain": [
              "49"
            ]
          },
          "execution_count": 19,
          "metadata": {},
          "output_type": "execute_result"
        }
      ],
      "execution_count": 19
    },
    {
      "cell_type": "code",
      "source": "print(3 + 4)\nprint(3 - 4)\nprint(3 * 4)",
      "metadata": {
        "colab": {
          "base_uri": "https://localhost:8080/"
        },
        "executionInfo": {
          "elapsed": 240,
          "status": "ok",
          "timestamp": 1626110509822,
          "user": {
            "displayName": "Mateusz Zimoch",
            "photoUrl": "https://lh3.googleusercontent.com/a-/AOh14GhLKHKJhMI_pTIoYkcl8z-E-V849Je8P3XxEzn2DQ=s64",
            "userId": "02738966002905530559"
          },
          "user_tz": -120
        },
        "id": "r37NK4enk4jx",
        "outputId": "a82acb38-feaa-4d4c-ca3a-da6d9552f4e3"
      },
      "outputs": [
        {
          "name": "stdout",
          "output_type": "stream",
          "text": "7\n,-1\n,12\n"
        }
      ],
      "execution_count": 20
    },
    {
      "cell_type": "code",
      "source": "print(11 / 3)\nprint(11 // 3)\nprint(11 % 3) #reszta z dzielenia\n# 11 = 3 * 3.(6) = 3 * 3 + 2",
      "metadata": {
        "colab": {
          "base_uri": "https://localhost:8080/"
        },
        "executionInfo": {
          "elapsed": 254,
          "status": "ok",
          "timestamp": 1626110533737,
          "user": {
            "displayName": "Mateusz Zimoch",
            "photoUrl": "https://lh3.googleusercontent.com/a-/AOh14GhLKHKJhMI_pTIoYkcl8z-E-V849Je8P3XxEzn2DQ=s64",
            "userId": "02738966002905530559"
          },
          "user_tz": -120
        },
        "id": "AFWydGMXk4jx",
        "outputId": "23f3ae53-aac3-40c9-8f83-1ac150b90e34"
      },
      "outputs": [
        {
          "name": "stdout",
          "output_type": "stream",
          "text": "3.6666666666666665\n,3\n,2\n"
        }
      ],
      "execution_count": 21
    },
    {
      "cell_type": "code",
      "source": "# Potęgtowanie\nprint(2 ** 10)",
      "metadata": {
        "colab": {
          "base_uri": "https://localhost:8080/"
        },
        "executionInfo": {
          "elapsed": 274,
          "status": "ok",
          "timestamp": 1626110635753,
          "user": {
            "displayName": "Mateusz Zimoch",
            "photoUrl": "https://lh3.googleusercontent.com/a-/AOh14GhLKHKJhMI_pTIoYkcl8z-E-V849Je8P3XxEzn2DQ=s64",
            "userId": "02738966002905530559"
          },
          "user_tz": -120
        },
        "id": "gpp60Afxk4jy",
        "outputId": "078e7ca7-d4b4-451e-e3a8-398ebd2aeef6"
      },
      "outputs": [
        {
          "name": "stdout",
          "output_type": "stream",
          "text": "1024\n"
        }
      ],
      "execution_count": 22
    },
    {
      "cell_type": "code",
      "source": "# Dzielenie przez zero\n'''\nKomentarz\nwielolinijkowy\n'''\nprint(5 / 0) #komentarz",
      "metadata": {
        "colab": {
          "base_uri": "https://localhost:8080/",
          "height": 189
        },
        "executionInfo": {
          "elapsed": 278,
          "status": "error",
          "timestamp": 1626110649893,
          "user": {
            "displayName": "Mateusz Zimoch",
            "photoUrl": "https://lh3.googleusercontent.com/a-/AOh14GhLKHKJhMI_pTIoYkcl8z-E-V849Je8P3XxEzn2DQ=s64",
            "userId": "02738966002905530559"
          },
          "user_tz": -120
        },
        "id": "qto8yE5Wk4jy",
        "outputId": "69507703-ae92-460f-e0f2-dce7fb578bee"
      },
      "outputs": [
        {
          "ename": "ZeroDivisionError",
          "evalue": "division by zero",
          "output_type": "error",
          "traceback": [
            "\u001b[1;31m---------------------------------------------------------------------------\u001b[0m",
            "\u001b[1;31mZeroDivisionError\u001b[0m                         Traceback (most recent call last)",
            "\u001b[1;32m<ipython-input-23-f1bf78c62c35>\u001b[0m in \u001b[0;36m<module>\u001b[1;34m\u001b[0m\n\u001b[0;32m      4\u001b[0m \u001b[0mwielolinijkowy\u001b[0m\u001b[1;33m\u001b[0m\u001b[1;33m\u001b[0m\u001b[0m\n\u001b[0;32m      5\u001b[0m '''\n\u001b[1;32m----> 6\u001b[1;33m \u001b[0mprint\u001b[0m\u001b[1;33m(\u001b[0m\u001b[1;36m5\u001b[0m \u001b[1;33m/\u001b[0m \u001b[1;36m0\u001b[0m\u001b[1;33m)\u001b[0m \u001b[1;31m#komentarz\u001b[0m\u001b[1;33m\u001b[0m\u001b[1;33m\u001b[0m\u001b[0m\n\u001b[0m",
            "\u001b[1;31mZeroDivisionError\u001b[0m: division by zero"
          ]
        }
      ],
      "execution_count": 23
    },
    {
      "cell_type": "code",
      "source": "# Operacje na napisach\nprint(\"A\" * 6)\nprint(\"!\" + '?')\nprint(\"Nie będę pisać po ławkach! \" * 50)",
      "metadata": {
        "colab": {
          "base_uri": "https://localhost:8080/"
        },
        "executionInfo": {
          "elapsed": 231,
          "status": "ok",
          "timestamp": 1626110934079,
          "user": {
            "displayName": "Mateusz Zimoch",
            "photoUrl": "https://lh3.googleusercontent.com/a-/AOh14GhLKHKJhMI_pTIoYkcl8z-E-V849Je8P3XxEzn2DQ=s64",
            "userId": "02738966002905530559"
          },
          "user_tz": -120
        },
        "id": "szae8UUtk4jy",
        "outputId": "f2ff3f99-5064-4c19-fcd9-fd008c18a076"
      },
      "outputs": [],
      "execution_count": null
    },
    {
      "cell_type": "markdown",
      "source": "## Operatory przypisania\n\n- **`=`**\n- **`+=`**\n- **`-=`**\n- **`*=`**",
      "metadata": {
        "id": "Wh0mazopk4jz"
      }
    },
    {
      "cell_type": "code",
      "source": "print(a)\na = a + 1\nprint(a)\na += 1 #równoważne\nprint(a)\n# Operator przypisywania w połączeniu z operacjami arytmetycznymi\ncena = 100\nprint(cena)\ncena *= 1.1 # to samo, co cena = cena * 1.1\nprint(cena)\ncena -= 10.0\nprint(int(cena))",
      "metadata": {
        "colab": {
          "base_uri": "https://localhost:8080/"
        },
        "executionInfo": {
          "elapsed": 235,
          "status": "ok",
          "timestamp": 1626111057804,
          "user": {
            "displayName": "Mateusz Zimoch",
            "photoUrl": "https://lh3.googleusercontent.com/a-/AOh14GhLKHKJhMI_pTIoYkcl8z-E-V849Je8P3XxEzn2DQ=s64",
            "userId": "02738966002905530559"
          },
          "user_tz": -120
        },
        "id": "r11jK5tEk4jz",
        "outputId": "50f3fcb4-553c-4ce7-a1fc-8086504cbeda"
      },
      "outputs": [],
      "execution_count": null
    },
    {
      "cell_type": "code",
      "source": "num3 = 4\nnum6 = 12\nnum7 = 23",
      "metadata": {
        "id": "Jj3Cq7CGk4j0"
      },
      "outputs": [],
      "execution_count": null
    },
    {
      "cell_type": "code",
      "source": "# Inkrementacja\nnum7 += 4\nnum7",
      "metadata": {
        "colab": {
          "base_uri": "https://localhost:8080/"
        },
        "executionInfo": {
          "elapsed": 275,
          "status": "ok",
          "timestamp": 1626111156952,
          "user": {
            "displayName": "Mateusz Zimoch",
            "photoUrl": "https://lh3.googleusercontent.com/a-/AOh14GhLKHKJhMI_pTIoYkcl8z-E-V849Je8P3XxEzn2DQ=s64",
            "userId": "02738966002905530559"
          },
          "user_tz": -120
        },
        "id": "tq5b8d7Wk4j0",
        "outputId": "98dec9de-c40b-481d-d301-c59249c92fc3"
      },
      "outputs": [],
      "execution_count": null
    },
    {
      "cell_type": "code",
      "source": "# Dekrementacja\nnum6 -= 2\nnum6",
      "metadata": {
        "colab": {
          "base_uri": "https://localhost:8080/"
        },
        "executionInfo": {
          "elapsed": 257,
          "status": "ok",
          "timestamp": 1626111163028,
          "user": {
            "displayName": "Mateusz Zimoch",
            "photoUrl": "https://lh3.googleusercontent.com/a-/AOh14GhLKHKJhMI_pTIoYkcl8z-E-V849Je8P3XxEzn2DQ=s64",
            "userId": "02738966002905530559"
          },
          "user_tz": -120
        },
        "id": "k8EX9ewxk4j1",
        "outputId": "556f14cb-4a89-4740-a5fa-8c16496c9e53"
      },
      "outputs": [],
      "execution_count": null
    },
    {
      "cell_type": "code",
      "source": "print(num3)",
      "metadata": {},
      "outputs": [],
      "execution_count": null
    },
    {
      "cell_type": "code",
      "source": "# Mnożenie i ponowne przypisanie\nnum3 *= 5\nnum3",
      "metadata": {
        "colab": {
          "base_uri": "https://localhost:8080/"
        },
        "executionInfo": {
          "elapsed": 269,
          "status": "ok",
          "timestamp": 1626111171219,
          "user": {
            "displayName": "Mateusz Zimoch",
            "photoUrl": "https://lh3.googleusercontent.com/a-/AOh14GhLKHKJhMI_pTIoYkcl8z-E-V849Je8P3XxEzn2DQ=s64",
            "userId": "02738966002905530559"
          },
          "user_tz": -120
        },
        "id": "ib5xQ2U_k4j1",
        "outputId": "bef7ff51-f468-4570-b193-f73981583187"
      },
      "outputs": [],
      "execution_count": null
    },
    {
      "cell_type": "code",
      "source": "# Przypisanie wartoci całego wyrażenia\nnum8 = (num1 + num2) * num3\nnum8",
      "metadata": {
        "colab": {
          "base_uri": "https://localhost:8080/"
        },
        "executionInfo": {
          "elapsed": 246,
          "status": "ok",
          "timestamp": 1626111199942,
          "user": {
            "displayName": "Mateusz Zimoch",
            "photoUrl": "https://lh3.googleusercontent.com/a-/AOh14GhLKHKJhMI_pTIoYkcl8z-E-V849Je8P3XxEzn2DQ=s64",
            "userId": "02738966002905530559"
          },
          "user_tz": -120
        },
        "id": "_vPZTng4k4j1",
        "outputId": "b1f9ccd5-ce08-4ab1-e9c9-3b153dcaa56e"
      },
      "outputs": [],
      "execution_count": null
    },
    {
      "cell_type": "markdown",
      "source": "## Operatory porównania \n\nZwracaja `True` albo `False`\n- **`==`**\n- **`!=`**\n- **`<`**\n- **`<=`**\n- **`>`**\n- **`>=`**",
      "metadata": {
        "id": "H-eoWgxOk4j2"
      }
    },
    {
      "cell_type": "code",
      "source": "# Operatory porównania\nprint(2.0 * 2.0 > 4.0)\nprint(2.0 * 2.0 >= 4.0)\nprint(2.0 * 2.0 == 4.0)\nprint(2.0 * 2.0 != 4.0)",
      "metadata": {
        "colab": {
          "base_uri": "https://localhost:8080/"
        },
        "executionInfo": {
          "elapsed": 230,
          "status": "ok",
          "timestamp": 1626111284022,
          "user": {
            "displayName": "Mateusz Zimoch",
            "photoUrl": "https://lh3.googleusercontent.com/a-/AOh14GhLKHKJhMI_pTIoYkcl8z-E-V849Je8P3XxEzn2DQ=s64",
            "userId": "02738966002905530559"
          },
          "user_tz": -120
        },
        "id": "OsmqlfFbk4j2",
        "outputId": "e8117794-a38f-4c5c-c4c9-f1f9c6ee2382"
      },
      "outputs": [],
      "execution_count": null
    },
    {
      "cell_type": "code",
      "source": "# Operator porównania\nprint(round(0.1 + 0.2, 2))\nprint(round(0.1 + 0.2, 2) == 0.3)\nprint(1.0 + 2.0 == 3.0)",
      "metadata": {
        "colab": {
          "base_uri": "https://localhost:8080/"
        },
        "executionInfo": {
          "elapsed": 243,
          "status": "ok",
          "timestamp": 1626111390369,
          "user": {
            "displayName": "Mateusz Zimoch",
            "photoUrl": "https://lh3.googleusercontent.com/a-/AOh14GhLKHKJhMI_pTIoYkcl8z-E-V849Je8P3XxEzn2DQ=s64",
            "userId": "02738966002905530559"
          },
          "user_tz": -120
        },
        "id": "CfhBKNnPk4j3",
        "outputId": "ec375761-2d9a-4068-da51-c1a1e8564c0b"
      },
      "outputs": [],
      "execution_count": null
    },
    {
      "cell_type": "code",
      "source": "# Operator porównania\na = 2.0\nb = 2.0\nprint(a == b) # porównanie wartości\nprint(a is b) # porównuje wskazywanie na jedno miejsce w pamięci\nprint(a is a)\nc = a\nprint(a is c)",
      "metadata": {
        "colab": {
          "base_uri": "https://localhost:8080/"
        },
        "executionInfo": {
          "elapsed": 251,
          "status": "ok",
          "timestamp": 1626111459821,
          "user": {
            "displayName": "Mateusz Zimoch",
            "photoUrl": "https://lh3.googleusercontent.com/a-/AOh14GhLKHKJhMI_pTIoYkcl8z-E-V849Je8P3XxEzn2DQ=s64",
            "userId": "02738966002905530559"
          },
          "user_tz": -120
        },
        "id": "YXd5LzkQk4j3",
        "outputId": "95c89fcd-8dee-40d2-8336-79a4eed2e348"
      },
      "outputs": [],
      "execution_count": null
    },
    {
      "cell_type": "code",
      "source": "# Operator porównania 'is' oraz operator id\na = 2.0\nc = 2.0\nb = a\nprint(a is b)\nprint(id(a), id(b), id(c))\nprint(b)\na = 3.5\nprint(b)\nprint(id(a), id(b), id(c))",
      "metadata": {
        "colab": {
          "base_uri": "https://localhost:8080/"
        },
        "executionInfo": {
          "elapsed": 253,
          "status": "ok",
          "timestamp": 1626111620283,
          "user": {
            "displayName": "Mateusz Zimoch",
            "photoUrl": "https://lh3.googleusercontent.com/a-/AOh14GhLKHKJhMI_pTIoYkcl8z-E-V849Je8P3XxEzn2DQ=s64",
            "userId": "02738966002905530559"
          },
          "user_tz": -120
        },
        "id": "Y_gTpmF5k4j4",
        "outputId": "8436d271-b38c-49d5-fe4c-897995770fb1"
      },
      "outputs": [],
      "execution_count": null
    },
    {
      "cell_type": "code",
      "source": "# Sprawdzenie czy oba wyrażenia sa sobie równe\nprint(num1, num2, num3)\nnum1 + num2 == 5",
      "metadata": {
        "colab": {
          "base_uri": "https://localhost:8080/"
        },
        "executionInfo": {
          "elapsed": 253,
          "status": "ok",
          "timestamp": 1626111514775,
          "user": {
            "displayName": "Mateusz Zimoch",
            "photoUrl": "https://lh3.googleusercontent.com/a-/AOh14GhLKHKJhMI_pTIoYkcl8z-E-V849Je8P3XxEzn2DQ=s64",
            "userId": "02738966002905530559"
          },
          "user_tz": -120
        },
        "id": "UaOFe42Zk4j4",
        "outputId": "95ffb1f0-198e-48f3-8c26-9766ae12d783"
      },
      "outputs": [],
      "execution_count": null
    },
    {
      "cell_type": "code",
      "source": "# Sprawdzenie nierównosci\nnum3 != num1",
      "metadata": {
        "colab": {
          "base_uri": "https://localhost:8080/"
        },
        "executionInfo": {
          "elapsed": 254,
          "status": "ok",
          "timestamp": 1626111524629,
          "user": {
            "displayName": "Mateusz Zimoch",
            "photoUrl": "https://lh3.googleusercontent.com/a-/AOh14GhLKHKJhMI_pTIoYkcl8z-E-V849Je8P3XxEzn2DQ=s64",
            "userId": "02738966002905530559"
          },
          "user_tz": -120
        },
        "id": "Z3D7H9csk4j5",
        "outputId": "f886615e-f563-4da8-85b7-bfc60da4bd2e"
      },
      "outputs": [],
      "execution_count": null
    },
    {
      "cell_type": "code",
      "source": "# Porównanie\nnum1 < num2",
      "metadata": {
        "colab": {
          "base_uri": "https://localhost:8080/"
        },
        "executionInfo": {
          "elapsed": 241,
          "status": "ok",
          "timestamp": 1626111529937,
          "user": {
            "displayName": "Mateusz Zimoch",
            "photoUrl": "https://lh3.googleusercontent.com/a-/AOh14GhLKHKJhMI_pTIoYkcl8z-E-V849Je8P3XxEzn2DQ=s64",
            "userId": "02738966002905530559"
          },
          "user_tz": -120
        },
        "id": "OY_ZLTRmk4j5",
        "outputId": "d45d9a3c-1fde-414f-84bc-d702775c8062"
      },
      "outputs": [],
      "execution_count": null
    },
    {
      "cell_type": "code",
      "source": "# Jaka wartosc ?\n5 > 3 > 1",
      "metadata": {
        "colab": {
          "base_uri": "https://localhost:8080/"
        },
        "executionInfo": {
          "elapsed": 236,
          "status": "ok",
          "timestamp": 1626111817174,
          "user": {
            "displayName": "Mateusz Zimoch",
            "photoUrl": "https://lh3.googleusercontent.com/a-/AOh14GhLKHKJhMI_pTIoYkcl8z-E-V849Je8P3XxEzn2DQ=s64",
            "userId": "02738966002905530559"
          },
          "user_tz": -120
        },
        "id": "aaj5hNq4k4j6",
        "outputId": "d276b518-906a-488a-b768-5b195dce7990"
      },
      "outputs": [],
      "execution_count": null
    },
    {
      "cell_type": "code",
      "source": "# Czy wyrażenie zwróci True ?\n5 > 3 < 4 == 3 + 1",
      "metadata": {
        "colab": {
          "base_uri": "https://localhost:8080/"
        },
        "executionInfo": {
          "elapsed": 251,
          "status": "ok",
          "timestamp": 1626111852131,
          "user": {
            "displayName": "Mateusz Zimoch",
            "photoUrl": "https://lh3.googleusercontent.com/a-/AOh14GhLKHKJhMI_pTIoYkcl8z-E-V849Je8P3XxEzn2DQ=s64",
            "userId": "02738966002905530559"
          },
          "user_tz": -120
        },
        "id": "NvaaWarIk4j6",
        "outputId": "024d4158-6c41-44dc-f7c6-258c6b0f7293"
      },
      "outputs": [],
      "execution_count": null
    },
    {
      "cell_type": "code",
      "source": "",
      "metadata": {
        "id": "VcQpz7fKk4j6"
      },
      "outputs": [],
      "execution_count": null
    },
    {
      "cell_type": "code",
      "source": "# Przypisanie wartosci napisowych\nsimple_string1 = 'an example'\nsimple_string2 = \"oranges \"",
      "metadata": {
        "id": "7rtiC-Oxk4j7"
      },
      "outputs": [],
      "execution_count": null
    },
    {
      "cell_type": "code",
      "source": "# Sklejanie napisów\nsimple_string_4 = simple_string1 + ' of using the + operator'",
      "metadata": {
        "colab": {
          "base_uri": "https://localhost:8080/",
          "height": 35
        },
        "executionInfo": {
          "elapsed": 271,
          "status": "ok",
          "timestamp": 1626111925683,
          "user": {
            "displayName": "Mateusz Zimoch",
            "photoUrl": "https://lh3.googleusercontent.com/a-/AOh14GhLKHKJhMI_pTIoYkcl8z-E-V849Je8P3XxEzn2DQ=s64",
            "userId": "02738966002905530559"
          },
          "user_tz": -120
        },
        "id": "gL6b9ORIk4j7",
        "outputId": "fcbaa81c-d2cf-480c-c824-1f71f98945a1"
      },
      "outputs": [],
      "execution_count": null
    },
    {
      "cell_type": "code",
      "source": "simple_string_4",
      "metadata": {},
      "outputs": [],
      "execution_count": null
    },
    {
      "cell_type": "code",
      "source": "# Sklejanie napisów nie jest operacja 'w miejscu'\nsimple_string1",
      "metadata": {
        "colab": {
          "base_uri": "https://localhost:8080/",
          "height": 35
        },
        "executionInfo": {
          "elapsed": 236,
          "status": "ok",
          "timestamp": 1626111936472,
          "user": {
            "displayName": "Mateusz Zimoch",
            "photoUrl": "https://lh3.googleusercontent.com/a-/AOh14GhLKHKJhMI_pTIoYkcl8z-E-V849Je8P3XxEzn2DQ=s64",
            "userId": "02738966002905530559"
          },
          "user_tz": -120
        },
        "id": "HQk99Udwk4j7",
        "outputId": "26aea64b-fe4a-4083-b78e-473b186570d0"
      },
      "outputs": [],
      "execution_count": null
    },
    {
      "cell_type": "code",
      "source": "# Powielanie napisów ...\nsimple_string2 * 4",
      "metadata": {
        "colab": {
          "base_uri": "https://localhost:8080/",
          "height": 35
        },
        "executionInfo": {
          "elapsed": 260,
          "status": "ok",
          "timestamp": 1626111972526,
          "user": {
            "displayName": "Mateusz Zimoch",
            "photoUrl": "https://lh3.googleusercontent.com/a-/AOh14GhLKHKJhMI_pTIoYkcl8z-E-V849Je8P3XxEzn2DQ=s64",
            "userId": "02738966002905530559"
          },
          "user_tz": -120
        },
        "id": "s8PO_oxJk4j7",
        "outputId": "f40d68da-c3cc-43a0-bdf6-17d1e84452ee"
      },
      "outputs": [],
      "execution_count": null
    },
    {
      "cell_type": "code",
      "source": "# ... nie jest operacja 'w miejscu'\nsimple_string2",
      "metadata": {
        "colab": {
          "base_uri": "https://localhost:8080/",
          "height": 35
        },
        "executionInfo": {
          "elapsed": 229,
          "status": "ok",
          "timestamp": 1626111976639,
          "user": {
            "displayName": "Mateusz Zimoch",
            "photoUrl": "https://lh3.googleusercontent.com/a-/AOh14GhLKHKJhMI_pTIoYkcl8z-E-V849Je8P3XxEzn2DQ=s64",
            "userId": "02738966002905530559"
          },
          "user_tz": -120
        },
        "id": "D8mW626jk4j8",
        "outputId": "08fae2fa-6962-4ce3-f0f0-6ba18e67b16c"
      },
      "outputs": [],
      "execution_count": null
    },
    {
      "cell_type": "code",
      "source": "# Porównanie napisów\nsimple_string1 == simple_string2",
      "metadata": {
        "colab": {
          "base_uri": "https://localhost:8080/"
        },
        "executionInfo": {
          "elapsed": 262,
          "status": "ok",
          "timestamp": 1626111981609,
          "user": {
            "displayName": "Mateusz Zimoch",
            "photoUrl": "https://lh3.googleusercontent.com/a-/AOh14GhLKHKJhMI_pTIoYkcl8z-E-V849Je8P3XxEzn2DQ=s64",
            "userId": "02738966002905530559"
          },
          "user_tz": -120
        },
        "id": "E_vf4rapk4j8",
        "outputId": "cf93de81-c0b3-4a9e-8ea0-23a9daecc768"
      },
      "outputs": [],
      "execution_count": null
    },
    {
      "cell_type": "code",
      "source": "simple_string1 == 'an example'",
      "metadata": {
        "colab": {
          "base_uri": "https://localhost:8080/"
        },
        "executionInfo": {
          "elapsed": 235,
          "status": "ok",
          "timestamp": 1626111984224,
          "user": {
            "displayName": "Mateusz Zimoch",
            "photoUrl": "https://lh3.googleusercontent.com/a-/AOh14GhLKHKJhMI_pTIoYkcl8z-E-V849Je8P3XxEzn2DQ=s64",
            "userId": "02738966002905530559"
          },
          "user_tz": -120
        },
        "id": "UBwOIN_kk4j8",
        "outputId": "f6358af1-84a7-4a48-9c91-0bfdcf113c0f"
      },
      "outputs": [],
      "execution_count": null
    },
    {
      "cell_type": "code",
      "source": "'adsfsdf' < 'csadasd'",
      "metadata": {
        "colab": {
          "base_uri": "https://localhost:8080/"
        },
        "executionInfo": {
          "elapsed": 276,
          "status": "ok",
          "timestamp": 1626112014808,
          "user": {
            "displayName": "Mateusz Zimoch",
            "photoUrl": "https://lh3.googleusercontent.com/a-/AOh14GhLKHKJhMI_pTIoYkcl8z-E-V849Je8P3XxEzn2DQ=s64",
            "userId": "02738966002905530559"
          },
          "user_tz": -120
        },
        "id": "IRYRinO-0_kn",
        "outputId": "36f48094-d88e-44fd-c798-190524f52be5"
      },
      "outputs": [],
      "execution_count": null
    },
    {
      "cell_type": "code",
      "source": "# Dodanie i ponowne przypisanie\nsimple_string1 += ' that re-assigned the original string'\nsimple_string1",
      "metadata": {
        "colab": {
          "base_uri": "https://localhost:8080/",
          "height": 35
        },
        "executionInfo": {
          "elapsed": 252,
          "status": "ok",
          "timestamp": 1626112024433,
          "user": {
            "displayName": "Mateusz Zimoch",
            "photoUrl": "https://lh3.googleusercontent.com/a-/AOh14GhLKHKJhMI_pTIoYkcl8z-E-V849Je8P3XxEzn2DQ=s64",
            "userId": "02738966002905530559"
          },
          "user_tz": -120
        },
        "id": "Std0mk5Uk4j8",
        "outputId": "d4f6ab89-f131-4c6c-a5f7-8f2041c04d77"
      },
      "outputs": [],
      "execution_count": null
    },
    {
      "cell_type": "code",
      "source": "# Podobnie z powielaniem\nsimple_string2 *= 3\nsimple_string2",
      "metadata": {
        "colab": {
          "base_uri": "https://localhost:8080/",
          "height": 35
        },
        "executionInfo": {
          "elapsed": 270,
          "status": "ok",
          "timestamp": 1626112039228,
          "user": {
            "displayName": "Mateusz Zimoch",
            "photoUrl": "https://lh3.googleusercontent.com/a-/AOh14GhLKHKJhMI_pTIoYkcl8z-E-V849Je8P3XxEzn2DQ=s64",
            "userId": "02738966002905530559"
          },
          "user_tz": -120
        },
        "id": "GMcQDnlxk4j9",
        "outputId": "cf1370fd-ee11-487c-f7af-18560b2d7cde"
      },
      "outputs": [],
      "execution_count": null
    },
    {
      "cell_type": "markdown",
      "source": "## Operatory logiczne\n\nZwracaja `True` albo `False`\n- **`or`**\n- **`and`**\n- **`not`**",
      "metadata": {
        "id": "F2Qw2Q6jk4j9"
      }
    },
    {
      "cell_type": "code",
      "source": "# Operatory logiczne\nt = True\nf = False\nprint(t and f, t or f)\nprint(t and t, t or t)\nprint(f and f, f or f)",
      "metadata": {
        "colab": {
          "base_uri": "https://localhost:8080/"
        },
        "executionInfo": {
          "elapsed": 476,
          "status": "ok",
          "timestamp": 1626112051579,
          "user": {
            "displayName": "Mateusz Zimoch",
            "photoUrl": "https://lh3.googleusercontent.com/a-/AOh14GhLKHKJhMI_pTIoYkcl8z-E-V849Je8P3XxEzn2DQ=s64",
            "userId": "02738966002905530559"
          },
          "user_tz": -120
        },
        "id": "VbRU0RTHk4j9",
        "outputId": "d2cb23c2-ddad-40a7-fb17-d02627ce6c1f"
      },
      "outputs": [],
      "execution_count": null
    },
    {
      "cell_type": "code",
      "source": "# Operatory logiczne\nprint(not True)\nprint(not False)",
      "metadata": {
        "colab": {
          "base_uri": "https://localhost:8080/"
        },
        "executionInfo": {
          "elapsed": 8,
          "status": "ok",
          "timestamp": 1626112051580,
          "user": {
            "displayName": "Mateusz Zimoch",
            "photoUrl": "https://lh3.googleusercontent.com/a-/AOh14GhLKHKJhMI_pTIoYkcl8z-E-V849Je8P3XxEzn2DQ=s64",
            "userId": "02738966002905530559"
          },
          "user_tz": -120
        },
        "id": "LbpAXSfkk4j9",
        "outputId": "0436fdac-25fe-4559-9da3-31a8b851cc08"
      },
      "outputs": [],
      "execution_count": null
    },
    {
      "cell_type": "markdown",
      "source": "## Gdy wyrażenie zawiera kilka operatorow, sa one wykonywane według priorytetów od lewej do prawej:\n\n- `()`\n- `**`\n- `*`, `/`\n- `+`, `-`\n- `==`, `!=`, `<`, `<=`, `>`, `>=`\n\nhttps://docs.python.org/3/reference/expressions.html#operator-precedence",
      "metadata": {
        "id": "kaGCJfPUk4j-"
      }
    },
    {
      "cell_type": "code",
      "source": "# Kolejność operacji\nprint(2 + 2 * 2)\nprint(2 * (2 + 2) )",
      "metadata": {
        "colab": {
          "base_uri": "https://localhost:8080/"
        },
        "executionInfo": {
          "elapsed": 9,
          "status": "ok",
          "timestamp": 1626709144954,
          "user": {
            "displayName": "Mateusz Zimoch",
            "photoUrl": "https://lh3.googleusercontent.com/a-/AOh14GhLKHKJhMI_pTIoYkcl8z-E-V849Je8P3XxEzn2DQ=s64",
            "userId": "02738966002905530559"
          },
          "user_tz": -120
        },
        "id": "RwOssfjDk4j-",
        "outputId": "171497d0-2710-4a3d-bcaa-36d10656e61e"
      },
      "outputs": [],
      "execution_count": null
    },
    {
      "cell_type": "code",
      "source": "print('A' * 2 + 'b' * 3)",
      "metadata": {
        "colab": {
          "base_uri": "https://localhost:8080/"
        },
        "executionInfo": {
          "elapsed": 6,
          "status": "ok",
          "timestamp": 1626709144954,
          "user": {
            "displayName": "Mateusz Zimoch",
            "photoUrl": "https://lh3.googleusercontent.com/a-/AOh14GhLKHKJhMI_pTIoYkcl8z-E-V849Je8P3XxEzn2DQ=s64",
            "userId": "02738966002905530559"
          },
          "user_tz": -120
        },
        "id": "rOxGPZj2k4j-",
        "outputId": "842c5ac1-44ef-480e-c190-200244f4663e"
      },
      "outputs": [
        {
          "name": "stdout",
          "output_type": "stream",
          "text": "AAbbb\n"
        }
      ],
      "execution_count": 24
    },
    {
      "cell_type": "markdown",
      "source": "# Zadania",
      "metadata": {
        "id": "UZIioLBXk4kQ"
      }
    },
    {
      "cell_type": "markdown",
      "source": "## Zadanie 1\n\nNapisz funkcję o dwóch argumentach, która sprawdzi, czy jedna liczba jest podzielna przez drugą liczbę.",
      "metadata": {
        "id": "1abX7YGbk4kQ"
      }
    },
    {
      "cell_type": "code",
      "source": "def divisibility(num1,num2):\n    if num2 == 0:\n        print(\"Nie można dzielić przez zero.\")\n        return None\n    if num1%num2 == 0:\n        print(\"Liczby są podzielne\")\n    else:\n        print(\"Liczby nie są przez siebie podzielne\")\n    return num1/num2\n    ",
      "metadata": {
        "id": "Bw_MLMbsk4kQ",
        "trusted": true
      },
      "outputs": [],
      "execution_count": 7
    },
    {
      "cell_type": "code",
      "source": "print(divisibility(4,0))",
      "metadata": {
        "trusted": true
      },
      "outputs": [
        {
          "name": "stdout",
          "output_type": "stream",
          "text": "Nie można dzielić przez zero.\nNone\n"
        }
      ],
      "execution_count": 9
    },
    {
      "cell_type": "markdown",
      "source": "## Zadanie 2.\n\nNapisz funkcję, która wypisze wszystkie liczby pierwsze mniejsze od liczby będącej argumentem funkcji.",
      "metadata": {
        "id": "SN-by8Amk4kQ"
      }
    },
    {
      "cell_type": "code",
      "source": "def prime_numbers(n):\n    for x in range(2, n):\n        for i in range(2, x):\n            if x % i == 0:\n                break\n        else:\n            print(x)",
      "metadata": {
        "id": "NrZETwnBk4kR",
        "trusted": true
      },
      "outputs": [],
      "execution_count": 24
    },
    {
      "cell_type": "code",
      "source": "print(prime_numbers(9))",
      "metadata": {
        "trusted": true
      },
      "outputs": [
        {
          "name": "stdout",
          "output_type": "stream",
          "text": "2\n3\n5\n7\nNone\n"
        }
      ],
      "execution_count": 25
    },
    {
      "cell_type": "markdown",
      "source": "## Zadanie 3.\n\nNapisz funkcję, która posortuje listę liczb w porządku niemalejącym.",
      "metadata": {
        "id": "6Wps5O-qk4kR"
      }
    },
    {
      "cell_type": "code",
      "source": "def num_sort(num_list):\n    num_list.sort()\n    return num_list\n    \n    \n    ",
      "metadata": {
        "id": "t4zP0PWwk4kR",
        "trusted": true
      },
      "outputs": [],
      "execution_count": 41
    },
    {
      "cell_type": "code",
      "source": "print(num_sort([3,6,1,7,8]))",
      "metadata": {
        "trusted": true
      },
      "outputs": [
        {
          "name": "stdout",
          "output_type": "stream",
          "text": "[1, 3, 6, 7, 8]\n"
        }
      ],
      "execution_count": 42
    },
    {
      "cell_type": "markdown",
      "source": "## Zadanie 4.\n\nNapisz funkcję, która dla dwóch list liczbowych zwróci listę zawierającą tylko te elementy, które należą do obydwu list wejściowych.",
      "metadata": {
        "id": "tYr81lmmk4kR"
      }
    },
    {
      "cell_type": "code",
      "source": "def common_elements(list1, list2):\n    list3 = []\n    for x in list1:\n        for y in list2:\n            if x == y:\n                list3.append(x)\n    return list3",
      "metadata": {
        "id": "yczrhQAyk4kR",
        "trusted": true
      },
      "outputs": [],
      "execution_count": 43
    },
    {
      "cell_type": "code",
      "source": "print(common_elements([1,2,3,4,5,7], [1,2,3,4,8,9]))",
      "metadata": {
        "trusted": true
      },
      "outputs": [
        {
          "name": "stdout",
          "output_type": "stream",
          "text": "[1, 2, 3, 4]\n"
        }
      ],
      "execution_count": 45
    },
    {
      "cell_type": "markdown",
      "source": "## Zadanie 5.\n\nNapisz funkcję, która zwróci które urodziny będą obchodziły w tym roku osoby urodzone w latach podanych w lisćie będącej argumentem wejściowym danej funkcji.",
      "metadata": {
        "id": "oFYtE3zyk4kR"
      }
    },
    {
      "cell_type": "code",
      "source": "from datetime import datetime\n\ndef birthday(birth_years):\n    current_year = datetime.now().year\n    birthday_nr = []\n    for i in birth_years:\n        date_diff = current_year - i\n        birthday_nr.append(date_diff)\n    return birthday_nr\n\nprint(birthday([1989,2020,1993]))\n\n    ",
      "metadata": {
        "id": "cEd89faik4kS",
        "trusted": true
      },
      "outputs": [
        {
          "name": "stdout",
          "output_type": "stream",
          "text": "[36, 5, 32]\n"
        }
      ],
      "execution_count": 47
    },
    {
      "cell_type": "markdown",
      "source": "## Zadanie 6.\n\nWybierz kilka państw i stwórz dla każdego słownik, który będzie zawierać dane o nazwie państwa, powierzchni, liczbie mieszkańców, PKB per capita (PPP). Napisz funkcję, która dla listy słowników będzie wypisywać listę państw uszeregowanych według:\n* powierzchni\n* liczby ludności\n* gęstości zaludnienia\n* PKB per capita (PPP)",
      "metadata": {
        "id": "RTPg2DDyk4kS"
      }
    },
    {
      "cell_type": "code",
      "source": "  \ndef panstwa_sorted(panstwa_lista):\n    \n    print(\"Sortowanie po powierzchni\")\n    for kraj in sorted(panstwa_lista, key=lambda x: x[\"powierzchnia_km2\"]):\n        print(kraj[\"kraj\"])\n    print(\"Sortowanie po liczbie mieszkanców\")\n    for kraj in sorted(panstwa_lista, key=lambda x: x[\"liczba_mieszkancow\"]):\n        print(kraj[\"kraj\"])\n    print(\"Sortowanie po PPP\")\n    for kraj in sorted(panstwa_lista, key=lambda x: x[\"PPP_USD\"]):\n        print(kraj[\"kraj\"])\n    print(\"Sortowanie po gestości zaludnienia\")\n    for kraj in sorted(panstwa_lista, key=lambda x: x[\"gestosc_zaludnienia\"]):\n        print(kraj[\"kraj\"])\n\npanstwa = [\n    {\n        \"kraj\": \"Polska\",\n        \"powierzchnia_km2\": 312696,\n        \"liczba_mieszkancow\": 37600000,\n        \"PPP_USD\": 46000\n    },\n    {\n        \"kraj\": \"Niemcy\",\n        \"powierzchnia_km2\": 357582,\n        \"liczba_mieszkancow\": 83200000,\n        \"PPP_USD\": 63000\n    },\n    {\n        \"kraj\": \"Japonia\",\n        \"powierzchnia_km2\": 377975,\n        \"liczba_mieszkancow\": 124500000,\n        \"PPP_USD\": 48000\n    }\n]\nfor kraj in panstwa:\n    kraj[\"gestosc_zaludnienia\"] = kraj[\"liczba_mieszkancow\"] / kraj[\"powierzchnia_km2\"]\n    \n\nprint(panstwa_sorted(panstwa))\n    ",
      "metadata": {
        "id": "9uGw-SiSk4kS",
        "trusted": true
      },
      "outputs": [
        {
          "name": "stdout",
          "output_type": "stream",
          "text": "Sortowanie po powierzchni\nPolska\nNiemcy\nJaponia\nSortowanie po liczbie mieszkanców\nPolska\nNiemcy\nJaponia\nSortowanie po PPP\nPolska\nJaponia\nNiemcy\nSortowanie po gestości zaludnienia\nPolska\nNiemcy\nJaponia\nNone\n"
        }
      ],
      "execution_count": 51
    },
    {
      "cell_type": "markdown",
      "source": "## Zadanie 7.\n\nNapisz funkcję przyjmujaca napis i zwracajaca informacje ile liter i cyfr jest w napisie.",
      "metadata": {
        "id": "o09rDDKak4kS"
      }
    },
    {
      "cell_type": "code",
      "source": "def ile_znakow(napis):\n    digit = 0\n    alph = 0\n    for char in napis:\n        if char.isdigit():\n            digit += 1\n        elif char.isalpha():\n            alph += 1\n    return f\"Twój napis zawiera {digit} cyfr i {alph} liter\"\n\nprint(ile_znakow(\"Ala ma 3 koty.\"))\n        \n        ",
      "metadata": {
        "id": "I2-mbJnok4kS",
        "trusted": true
      },
      "outputs": [
        {
          "name": "stdout",
          "output_type": "stream",
          "text": "Twój napis zawiera 1 cyfr i 9 liter\n"
        }
      ],
      "execution_count": 55
    },
    {
      "cell_type": "markdown",
      "source": "## Zadanie 8.\n\nNapisz funkcję, która sprawdzi czy 2 napisy sa palindromami.",
      "metadata": {
        "id": "EYmN7hQqk4kS"
      }
    },
    {
      "cell_type": "code",
      "source": "def palindrom(napis1, napis2):\n    if napis1 == napis1[::-1]:\n        print(f\"{napis1} jest palindromem.\")\n    else:\n        print(f\"{napis1} nie jest palindromem.\")\n\n    if napis2 == napis2[::-1]:\n        print(f\"{napis2} jest palindromem.\")\n    else:\n        print(f\"{napis2} nie jest palindromem.\")\nprint(palindrom(\"anna\",\"mika\"))",
      "metadata": {
        "id": "zvwHGalKk4kT",
        "trusted": true
      },
      "outputs": [
        {
          "name": "stdout",
          "output_type": "stream",
          "text": "anna jest palindromem.\nmika nie jest palindromem.\nNone\n"
        }
      ],
      "execution_count": 64
    },
    {
      "cell_type": "markdown",
      "source": "## Zadanie 9.\n\nUżywajac zagnieżdżonych pętli, stwórz funkcję, która wydrukuje następujcy wzór:",
      "metadata": {
        "id": "XEoF9bs1k4kT"
      }
    },
    {
      "cell_type": "code",
      "source": "* \n* $ \n* $ * \n* $ * $ \n* $ * $ * \n* $ * $ \n* $ * \n* $ \n*",
      "metadata": {
        "id": "gSyeCSL2k4kT"
      },
      "outputs": [],
      "execution_count": null
    },
    {
      "cell_type": "code",
      "source": "def trojkat(n):\n    for i in range(1, n+1):\n        for j in range(i):\n            if j%2 == 0:\n                print(\"*\", end=\" \")\n            else:\n                print(\"$\", end=\" \")\n        print()\n    for i in range(n-1, 0,-1):\n        for j in range(i):\n            if j%2 == 0:\n                print(\"*\", end=\" \")\n            else:\n                print(\"$\", end=\" \")\n        print()\n                \nprint(trojkat(5))",
      "metadata": {
        "id": "QJVK7hRsk4kT",
        "trusted": true
      },
      "outputs": [
        {
          "name": "stdout",
          "output_type": "stream",
          "text": "* \n* $ \n* $ * \n* $ * $ \n* $ * $ * \n* $ * $ \n* $ * \n* $ \n* \nNone\n"
        }
      ],
      "execution_count": 74
    },
    {
      "cell_type": "markdown",
      "source": "## Zadanie 10.\n\nNapisz funkcję, która przyjmie dwie listy liczb całkowitych, i zwróci listę liczb występujcych w pierwszej i nie występujacych w drugiej liscie, posortowana rosnaco względem ilosci wystapien w pierwszej liscie.",
      "metadata": {
        "id": "K9dsY0aEk4kT"
      }
    },
    {
      "cell_type": "code",
      "source": "def uncommon_sorted(lista1, lista2):\n    lista3 = []\n    licznik = {}\n\n    \n    for num in lista1:\n        if num not in lista2:\n            lista3.append(num)\n\n    \n    for num in lista3:\n        if num in licznik:\n            licznik[num] += 1\n        else:\n            licznik[num] = 1\n\n    \n    posortowane = sorted(lista3, key=lambda x: licznik[x])\n    \n    return posortowane\n\n    ",
      "metadata": {
        "id": "fN0muadNk4kU",
        "trusted": true
      },
      "outputs": [],
      "execution_count": 82
    },
    {
      "cell_type": "code",
      "source": "lista1 = [1,2,3,4,6,8,2,1,1,1]\nlista2 = [2,4,5,3]\nprint(uncommon_sorted(lista1, lista2))",
      "metadata": {
        "trusted": true
      },
      "outputs": [
        {
          "name": "stdout",
          "output_type": "stream",
          "text": "[6, 8, 1, 1, 1, 1]\n"
        }
      ],
      "execution_count": 83
    },
    {
      "cell_type": "markdown",
      "source": "## Zadanie 11.\n\nUtworz funkcję, która przyjmie argument **`int`** *n* i obliczy *n-ta* liczbę ciagu Fibonacciego.",
      "metadata": {
        "id": "5vdCZnNVk4kU"
      }
    },
    {
      "cell_type": "code",
      "source": "def fibonacci(n):\n    if n == 0:\n        return 0\n    elif n == 1:\n        return 1\n    else:\n        return fibonacci(n-1) + fibonacci(n-2)\n    \n    ",
      "metadata": {
        "id": "tMRB6EuUk4kU",
        "trusted": true
      },
      "outputs": [],
      "execution_count": 88
    },
    {
      "cell_type": "code",
      "source": "print(fibonacci(5))",
      "metadata": {
        "trusted": true
      },
      "outputs": [
        {
          "name": "stdout",
          "output_type": "stream",
          "text": "5\n"
        }
      ],
      "execution_count": 90
    },
    {
      "cell_type": "markdown",
      "source": "## Zadanie 12.\n\nNapisz funkcję, która przyjmie argumenty nazwane *imie* i *wzrost* a następnie utworzy wpis do globalnego słownika.\nDodaj co najmniej 5 wpisów.",
      "metadata": {
        "id": "6pSRopPEk4kU"
      }
    },
    {
      "cell_type": "code",
      "source": "def slownik_imie_wzrost(imie, wzrost):\n    slownik = {\"imie\":[], \"wzrost\":[]}\n    for name, height in zip(imie, wzrost):\n        slownik[\"imie\"].append(name)\n        slownik[\"wzrost\"].append(height)\n    return slownik",
      "metadata": {
        "id": "FU8JVlVQk4kU",
        "trusted": true
      },
      "outputs": [],
      "execution_count": 122
    },
    {
      "cell_type": "code",
      "source": "print(slownik_imie_wzrost([\"andrzej\", \"anna\",\"martyna\",\"Monika\",\"krzysztof\"], [180,190,160,130,167]))",
      "metadata": {
        "trusted": true
      },
      "outputs": [
        {
          "name": "stdout",
          "output_type": "stream",
          "text": "{'imie': ['andrzej', 'anna', 'martyna', 'Monika', 'krzysztof'], 'wzrost': [180, 190, 160, 130, 167]}\n"
        }
      ],
      "execution_count": 123
    },
    {
      "cell_type": "markdown",
      "source": "## Zadanie 13.\n\nNapisz funkcję, która przyjmie słownik mapujacy imiona na wzrost, a następnie zwróci listę zawierajaca imiona posortowane według wzrostu malejaco.",
      "metadata": {
        "id": "cFN1JF44k4kU"
      }
    },
    {
      "cell_type": "code",
      "source": "def slownik_imiona_wzrost(imiona, wzrosty):\n    slownik = {}\n    for name, height in zip(imiona, wzrosty):\n        if name not in slownik:\n            slownik[name] = []\n        slownik[name].append(height)\n    posortowane = sorted(slownik.items(), key= lambda x: x[1], reverse=True)\n    return [name for name, _ in posortowane]",
      "metadata": {
        "id": "mj6ieIFik4kV",
        "trusted": true
      },
      "outputs": [],
      "execution_count": 158
    },
    {
      "cell_type": "code",
      "source": "print(slownik_imiona_wzrost([\"andrzej\", \"anna\",\"martyna\",\"Monika\",\"krzysztof\"], [180,190,160,130,167]))",
      "metadata": {
        "trusted": true
      },
      "outputs": [
        {
          "name": "stdout",
          "output_type": "stream",
          "text": "['anna', 'andrzej', 'krzysztof', 'martyna', 'Monika']\n"
        }
      ],
      "execution_count": 159
    },
    {
      "cell_type": "markdown",
      "source": "## Zadanie 14.\n\nNapisz (przy pomocy rekurencji) funkcję realizujaca potęgowanie. Funkcja przyjmuje dwie liczby całkowite, będace podstawa i wykładnikiem potęgi.",
      "metadata": {
        "id": "6sQkTKm-k4kV"
      }
    },
    {
      "cell_type": "code",
      "source": "def potegowanie(podstawa, wykladnik):\n    if wykladnik == 0:\n        return 1\n    elif wykladnik < 0:\n        return 1/potegowanie(podstawa, -wykladnik)\n    else:\n        return podstawa * potegowanie(podstawa, wykladnik-1)",
      "metadata": {
        "id": "CNPuQEp0k4kV",
        "trusted": true
      },
      "outputs": [],
      "execution_count": 166
    },
    {
      "cell_type": "code",
      "source": "print(potegowanie(2,-5))",
      "metadata": {
        "trusted": true
      },
      "outputs": [
        {
          "name": "stdout",
          "output_type": "stream",
          "text": "0.03125\n"
        }
      ],
      "execution_count": 167
    },
    {
      "cell_type": "markdown",
      "source": "## Zadanie 15.\n\nNapisz funkcję przyjmujaca jeden parametr **`list`** zawierajacy liczby całkowite i zwracajaca element, który pojawia się na liscie najczęciej.",
      "metadata": {
        "id": "JT4Gmfybk4kW"
      }
    },
    {
      "cell_type": "code",
      "source": "def freq_elem(liczby_calk):\n    czesty_element = {}\n    max = 0\n    for liczba in liczby_calk:\n        counter = liczby_calk.count(liczba)\n        if counter > max:\n            czesty_element[liczba] = counter\n            counter = max\n    return czesty_element[liczba]",
      "metadata": {
        "id": "hMTKcqe7k4kW",
        "trusted": true
      },
      "outputs": [],
      "execution_count": 172
    },
    {
      "cell_type": "code",
      "source": "print(freq_elem([1,2,1,1,3,4]))",
      "metadata": {
        "trusted": true
      },
      "outputs": [
        {
          "name": "stdout",
          "output_type": "stream",
          "text": "1\n"
        }
      ],
      "execution_count": 173
    },
    {
      "cell_type": "markdown",
      "source": "# Materiały\n\n- https://try.jupyter.org\n- https://docs.python.org/3/tutorial/index.html\n- https://docs.python.org/3/tutorial/introduction.html\n- https://daringfireball.net/projects/markdown/syntax",
      "metadata": {
        "id": "e_8BUYzEk4kW"
      }
    }
  ]
}