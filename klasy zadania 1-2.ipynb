{
 "cells": [
  {
   "cell_type": "markdown",
   "id": "b6e7d1f5-4aa2-4680-92c7-8e1a21cd1540",
   "metadata": {},
   "source": [
    "zadanie1\n",
    "Stwórz klasę Pamiętnik, która zaimplementuje metody do odczytywania i dopisywania zawartości. Zawartość będzie przechowywana w pliku tekstowym."
   ]
  },
  {
   "cell_type": "code",
   "execution_count": 26,
   "id": "e620424a-d079-4062-97a9-0b997b32726b",
   "metadata": {},
   "outputs": [],
   "source": [
    "class Pamietnik:\n",
    "    def __init__(self, plik):\n",
    "        self.plik = plik\n",
    "        \n",
    "    def odczytywanie (self):\n",
    "        with open(self.plik, \"r\") as plik:\n",
    "            tekst = plik.read()\n",
    "            print(tekst)\n",
    "\n",
    "    def dopisywanie(self, tekst):\n",
    "        with open(self.plik, \"r\") as plik:\n",
    "            zawartosc = plik.read()\n",
    "        if tekst not in zawartosc:\n",
    "            with open(self.plik, \"a\") as plik:\n",
    "                plik.write(tekst + \"\\n\")\n",
    "    def czyszczenie(self):\n",
    "        with open(self.plik, \"w\") as plik:\n",
    "            pass"
   ]
  },
  {
   "cell_type": "code",
   "execution_count": 27,
   "id": "e7e87c67-14e1-451b-95c3-3d8832e8925b",
   "metadata": {},
   "outputs": [
    {
     "name": "stdout",
     "output_type": "stream",
     "text": [
      "Dziś było super!\n",
      "świeciło słonce.\n",
      "Ptaszki śpiewały\n",
      "\n"
     ]
    }
   ],
   "source": [
    "moj_dziennik = Pamietnik(\"dziennik.txt\")\n",
    "moj_dziennik.czyszczenie()\n",
    "moj_dziennik.dopisywanie(\"Dziś było super!\")\n",
    "moj_dziennik.dopisywanie(\"świeciło słonce.\")\n",
    "moj_dziennik.dopisywanie(\"Ptaszki śpiewały\")\n",
    "moj_dziennik.odczytywanie()"
   ]
  },
  {
   "cell_type": "markdown",
   "id": "6f46fef0-3073-42f2-b9de-e501d75f060c",
   "metadata": {},
   "source": [
    "zadanie 2 Suma katow w trojkacie\n",
    "Stwórz klasę Trójkat, w której konstruktor przyjmuje 3 argumenty, reprezentujące kąty trójkąta. Klasa implementuje metodę sprawdz_katy, która sprawdzi, czy suma kątow jest równa 180."
   ]
  },
  {
   "cell_type": "code",
   "execution_count": null,
   "id": "c864adf5-e142-480b-aea3-11b2a0cd5bfd",
   "metadata": {},
   "outputs": [],
   "source": [
    "class Trojkat:\n",
    "    def __init__(self, kat_a, kat_b, kat_c):\n",
    "        self.kat_a = kat_a\n",
    "        self.kat_b = kat_b\n",
    "        self.kat_c = kat_c\n",
    "    \n",
    "    def sprawdz_katy(self):\n",
    "        if self.kat_a + self.kat_b + self.kat_c = 180:\n",
    "            return \"Suma katow tego trojkata rowna sie 180.\"\n",
    "        else:\n",
    "            return \"Suma katow tego trojkata nie rowna sie 180.\"\n",
    "        "
   ]
  }
 ],
 "metadata": {
  "kernelspec": {
   "display_name": "anaconda-2024.02-py310",
   "language": "python",
   "name": "conda-env-anaconda-2024.02-py310-py"
  },
  "language_info": {
   "codemirror_mode": {
    "name": "ipython",
    "version": 3
   },
   "file_extension": ".py",
   "mimetype": "text/x-python",
   "name": "python",
   "nbconvert_exporter": "python",
   "pygments_lexer": "ipython3",
   "version": "3.10.14"
  }
 },
 "nbformat": 4,
 "nbformat_minor": 5
}
