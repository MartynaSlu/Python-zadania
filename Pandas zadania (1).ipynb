{
  "metadata": {
    "kernelspec": {
      "name": "python",
      "display_name": "Python (Pyodide)",
      "language": "python"
    },
    "language_info": {
      "codemirror_mode": {
        "name": "python",
        "version": 3
      },
      "file_extension": ".py",
      "mimetype": "text/x-python",
      "name": "python",
      "nbconvert_exporter": "python",
      "pygments_lexer": "ipython3",
      "version": "3.8"
    }
  },
  "nbformat_minor": 5,
  "nbformat": 4,
  "cells": [
    {
      "id": "13251420-c8eb-4bc2-afcd-b6a2dc9e6615",
      "cell_type": "code",
      "source": "import pandas as pd",
      "metadata": {
        "trusted": true
      },
      "outputs": [],
      "execution_count": 1
    },
    {
      "id": "2559e6bb-c6de-4504-b8c3-a2d3242af804",
      "cell_type": "markdown",
      "source": "Zadanie 1 Dane \nZaładuj zbiór danych korzystajac z biblioteki Pandas. Kolumny w naszym zbiorze danych, to:\n\nimię\nnazwisko\nrok urodzenia\nmiesiac urodzenia\ndzień urodzenia\nmiejsce urodzenia\nmiasto, w którym znajduje się oddział firmy\ndepartament, w którym pracuje dana osoba\nrok roczęcia pracy w firmie\nmiesiac rozpoczęcia pracy\ndzień rozpoczęcia pracy\ndoswiadczenie (w latach)",
      "metadata": {}
    },
    {
      "id": "8755eb7c-1eed-4558-be3c-24dc452b14c0",
      "cell_type": "code",
      "source": "columns = [\n    \"imię\",\n    \"nazwisko\",\n    \"rok urodzenia\",\n    \"miesiąc urodzenia\",\n    \"dzień urodzenia\",\n    \"miejsce urodzenia\",\n    \"oddział firmy\",\n    \"departament\",\n    \"rok rozpoczęcia pracy w firmie\",\n    \"miesiąc rozpoczęcia pracy\",\n    \"dzień rozpoczęcia pracy\",\n    \"doświadczenie(lata)\"\n]\ndane = pd.read_csv(\"dataset_pandas_pd.csv\", header = None, names=columns) \nprint(dane)",
      "metadata": {
        "trusted": true
      },
      "outputs": [
        {
          "name": "stdout",
          "output_type": "stream",
          "text": "          imię nazwisko  rok urodzenia  miesiąc urodzenia  dzień urodzenia  \\\n0         Adam   Abacki           1970                  3                4   \n1      Barbara  Babacka           1971                  4                5   \n2       Celina  Cabacka           1969                  6                7   \n3      Dariusz  Dabacki           1972                  8                9   \n4      Ewelina   Ebacka           1968                 10               11   \n5    Ferdynand  Fabacki           1973                 11               12   \n6     Grzegorz  Gabacki           1967                 12               13   \n7       Halina  Habacka           1974                 11               14   \n8        Iwona   Ibacka           1966                 10               15   \n9       Janusz   Abacki           1975                  9               16   \n10    Karolina  Babacka           1965                  8               17   \n11        Leon  Cabacki           1976                  7               18   \n12      Michal  Dabacki           1964                  6               19   \n13     Natalia   Ebacka           1977                  5               20   \n14       Oskar  Fabacki           1963                  4               21   \n15    Patrycja  Gabacka           1978                  3               22   \n16       Roman   Abacki           1962                  2               23   \n17  Stanislawa  Babacka           1979                  1               24   \n18      Tomasz  Cabacki           1961                  2               25   \n19     Urszula  Dabacka           1980                  3               24   \n20   Wladyslaw   Ebacki           1960                  4               23   \n21       Zofia  Fabacka           1981                  5               22   \n22   Anastazja   Abacka           1990                  6               21   \n23      Antoni   Abacki           1982                  7               20   \n24       Beata  Babacka           1991                  8               19   \n25      Cezary  Cabacki           1983                  9               18   \n26      Daniel  Dabacki           1992                 10               17   \n27         Ewa   Ebacka           1984                 11               16   \n28  Franciszek   Abacki           1993                 12               15   \n29    Boleslaw  Babacki           1985                 11               14   \n30     Dariusz  Cabacki           1994                 10               13   \n31     Mariusz  Dabacki           1986                  9               12   \n32      Wiktor   Abacki           1995                  8               11   \n33       Magda  Babacka           1985                  7               10   \n34      Maciej  Cabacki           1994                  6                9   \n35      Antoni   Abacki           1984                  5                8   \n36   Bronislaw  Babacki           1993                  4                7   \n37      Horacy  Cabacki           1983                  3                6   \n38      Alicja   Abacka           1992                  2                5   \n39     Barbara  Babacka           1982                  1                4   \n\n   miejsce urodzenia oddział firmy           departament  \\\n0             Gdansk        Gdansk          Data Science   \n1             Gdynia        Gdansk          Data Science   \n2              Sopot        Gdansk  Software Development   \n3             Lublin        Gdansk                    HR   \n4           Warszawa        Gdansk            Accounting   \n5          Walbrzych        Gdansk                    HR   \n6             Gdansk        Gdansk  Software Development   \n7           Warszawa        Gdansk            Accounting   \n8             Poznan        Gdansk                 Sales   \n9             Gdynia        Gdansk                 Sales   \n10           Legnica        Gdansk          Data Science   \n11           Wroclaw        Krakow          Data Science   \n12       Swinoujscie        Gdansk                    HR   \n13          Zakopane        Krakow                    HR   \n14            Gdansk        Krakow          Data Science   \n15           Rzeszow        Krakow  Software Development   \n16            Lublin        Krakow          Data Science   \n17        Inowroclaw        Krakow  Software Development   \n18         Bydgoszcz        Krakow          Data Science   \n19         Bydgoszcz        Krakow          Data Science   \n20            Poznan        Krakow          Data Science   \n21            Gdansk        Krakow                    HR   \n22            Gdansk        Krakow                    HR   \n23          Warszawa        Krakow                    HR   \n24            Krakow        Krakow  Software Development   \n25            Gdynia        Krakow          Data Science   \n26            Gdansk        Krakow  Software Development   \n27          Zakopane        Krakow  Software Development   \n28            Lublin        Krakow          Data Science   \n29          Katowice        Krakow          Data Science   \n30          Katowice        Krakow            Accounting   \n31            Gdansk      Warszawa            Accounting   \n32            Gdansk      Warszawa            Accounting   \n33            Lublin      Warszawa  Software Development   \n34          Warszawa      Warszawa          Data Science   \n35              Ryki      Warszawa                    HR   \n36            Gdansk      Warszawa                    HR   \n37        Tarnobrzeg      Warszawa          Data Science   \n38            Gdansk      Warszawa            Accounting   \n39             Sopot      Warszawa          Data Science   \n\n    rok rozpoczęcia pracy w firmie  miesiąc rozpoczęcia pracy  \\\n0                           2015.0                          4   \n1                              NaN                          5   \n2                           2013.0                          6   \n3                           2020.0                          4   \n4                           2000.0                          7   \n5                           2001.0                          8   \n6                           2002.0                          4   \n7                           2003.0                          9   \n8                           2004.0                         10   \n9                           1995.0                         11   \n10                          2005.0                          4   \n11                          2006.0                          4   \n12                          2007.0                         12   \n13                          2008.0                          4   \n14                          2009.0                          4   \n15                          2010.0                          4   \n16                             NaN                          5   \n17                          2012.0                          4   \n18                          2013.0                          6   \n19                          2014.0                          4   \n20                          2015.0                          7   \n21                             NaN                          8   \n22                          2017.0                          9   \n23                          2018.0                         10   \n24                          2019.0                          4   \n25                             NaN                          4   \n26                          1995.0                         12   \n27                          1996.0                         11   \n28                          1997.0                          4   \n29                          1998.0                          4   \n30                          1999.0                          9   \n31                          2019.0                          8   \n32                          2018.0                          4   \n33                          2017.0                          4   \n34                          2016.0                          6   \n35                          2015.0                          5   \n36                          2014.0                          4   \n37                          2013.0                          4   \n38                             NaN                          3   \n39                             NaN                          2   \n\n    dzień rozpoczęcia pracy  doświadczenie(lata)  \n0                         5                   20  \n1                        15                   10  \n2                        25                   35  \n3                         5                    4  \n4                        15                   30  \n5                        25                   20  \n6                         5                   18  \n7                        15                   17  \n8                        25                   16  \n9                         5                   20  \n10                       15                   30  \n11                       25                   24  \n12                        5                   21  \n13                       10                   20  \n14                       25                   10  \n15                        5                    9  \n16                       12                    8  \n17                        5                    7  \n18                       13                    6  \n19                       14                    5  \n20                       16                   15  \n21                       25                   14  \n22                       25                   13  \n23                       20                   12  \n24                       24                   11  \n25                       21                   12  \n26                        5                   10  \n27                       15                    9  \n28                       25                    8  \n29                       25                    7  \n30                        5                    6  \n31                        5                    5  \n32                       15                    4  \n33                       12                   18  \n34                       11                   17  \n35                       10                   16  \n36                       22                   15  \n37                       25                   14  \n38                       15                   13  \n39                        5                   10  \n"
        }
      ],
      "execution_count": 111
    },
    {
      "id": "756583e0-5e74-4e19-b492-21a24577a442",
      "cell_type": "markdown",
      "source": "Pandas - Zadanie 2 - Najczęstsze nazwisko\n\nOsób o jakim nazwisku jest najwięcej ?",
      "metadata": {}
    },
    {
      "id": "8e8e174c-ce4b-4b12-8594-98154d049b47",
      "cell_type": "code",
      "source": "max_nazwisko = dane['nazwisko'].value_counts().idxmax()\n\nprint(max_nazwisko)\n",
      "metadata": {
        "trusted": true
      },
      "outputs": [
        {
          "name": "stdout",
          "output_type": "stream",
          "text": "Abacki\n"
        }
      ],
      "execution_count": 112
    },
    {
      "id": "86ce15a6-9ff4-4e15-9241-f3d6838734e5",
      "cell_type": "markdown",
      "source": "Pandas - Zadanie 3 - Płeć\n\nPo kolumnie z nazwiskiem dodaj kolumnę reprezentującą płeć danej osoby. Można wykorzystać fakt, że imiona\nkobiet kończą się literka 'a'.",
      "metadata": {}
    },
    {
      "id": "41472e6f-e969-491b-b8d3-163c3e918888",
      "cell_type": "code",
      "source": "def czy_kobieta():\n    wynik = []\n    for imie in dane['imię']:\n        if imie.endswith('a'):\n            wynik.append('Kobieta')\n        else:\n            wynik.append('Mezczyzna')\n    return wynik\n            \ndane.insert(2, \"plec\",czy_kobieta())",
      "metadata": {
        "trusted": true
      },
      "outputs": [],
      "execution_count": 113
    },
    {
      "id": "459749f4-121a-4b19-9d8b-cc7da48095aa",
      "cell_type": "code",
      "source": "print(dane.head(10))",
      "metadata": {
        "trusted": true
      },
      "outputs": [
        {
          "name": "stdout",
          "output_type": "stream",
          "text": "        imię nazwisko       plec  rok urodzenia  miesiąc urodzenia  \\\n0       Adam   Abacki  Mezczyzna           1970                  3   \n1    Barbara  Babacka    Kobieta           1971                  4   \n2     Celina  Cabacka    Kobieta           1969                  6   \n3    Dariusz  Dabacki  Mezczyzna           1972                  8   \n4    Ewelina   Ebacka    Kobieta           1968                 10   \n5  Ferdynand  Fabacki  Mezczyzna           1973                 11   \n6   Grzegorz  Gabacki  Mezczyzna           1967                 12   \n7     Halina  Habacka    Kobieta           1974                 11   \n8      Iwona   Ibacka    Kobieta           1966                 10   \n9     Janusz   Abacki  Mezczyzna           1975                  9   \n\n   dzień urodzenia miejsce urodzenia oddział firmy           departament  \\\n0                4            Gdansk        Gdansk          Data Science   \n1                5            Gdynia        Gdansk          Data Science   \n2                7             Sopot        Gdansk  Software Development   \n3                9            Lublin        Gdansk                    HR   \n4               11          Warszawa        Gdansk            Accounting   \n5               12         Walbrzych        Gdansk                    HR   \n6               13            Gdansk        Gdansk  Software Development   \n7               14          Warszawa        Gdansk            Accounting   \n8               15            Poznan        Gdansk                 Sales   \n9               16            Gdynia        Gdansk                 Sales   \n\n   rok rozpoczęcia pracy w firmie  miesiąc rozpoczęcia pracy  \\\n0                          2015.0                          4   \n1                             NaN                          5   \n2                          2013.0                          6   \n3                          2020.0                          4   \n4                          2000.0                          7   \n5                          2001.0                          8   \n6                          2002.0                          4   \n7                          2003.0                          9   \n8                          2004.0                         10   \n9                          1995.0                         11   \n\n   dzień rozpoczęcia pracy  doświadczenie(lata)  \n0                        5                   20  \n1                       15                   10  \n2                       25                   35  \n3                        5                    4  \n4                       15                   30  \n5                       25                   20  \n6                        5                   18  \n7                       15                   17  \n8                       25                   16  \n9                        5                   20  \n"
        }
      ],
      "execution_count": 114
    },
    {
      "id": "73a2efbc-6a8f-4bdb-b7c0-8cee6f5a9d01",
      "cell_type": "markdown",
      "source": "Pandas - Zadanie 4 - Sortowanie\n\nPosortuj zbiór danych alfabetycznie po nazwiskach, a w ramach jednego nazwiska po roku urodzenia.",
      "metadata": {}
    },
    {
      "id": "e09f2622-599e-459f-bf49-cb39b2301de1",
      "cell_type": "code",
      "source": "posortowane = dane.sort_values(by=['nazwisko', 'rok urodzenia'])\nprint(posortowane.head())",
      "metadata": {
        "trusted": true
      },
      "outputs": [
        {
          "name": "stdout",
          "output_type": "stream",
          "text": "         imię nazwisko       plec  rok urodzenia  miesiąc urodzenia  \\\n22  Anastazja   Abacka    Kobieta           1990                  6   \n38     Alicja   Abacka    Kobieta           1992                  2   \n16      Roman   Abacki  Mezczyzna           1962                  2   \n0        Adam   Abacki  Mezczyzna           1970                  3   \n9      Janusz   Abacki  Mezczyzna           1975                  9   \n\n    dzień urodzenia miejsce urodzenia oddział firmy   departament  \\\n22               21            Gdansk        Krakow            HR   \n38                5            Gdansk      Warszawa    Accounting   \n16               23            Lublin        Krakow  Data Science   \n0                 4            Gdansk        Gdansk  Data Science   \n9                16            Gdynia        Gdansk         Sales   \n\n    rok rozpoczęcia pracy w firmie  miesiąc rozpoczęcia pracy  \\\n22                          2017.0                          9   \n38                             NaN                          3   \n16                             NaN                          5   \n0                           2015.0                          4   \n9                           1995.0                         11   \n\n    dzień rozpoczęcia pracy  doświadczenie(lata)  \n22                       25                   13  \n38                       15                   13  \n16                       12                    8  \n0                         5                   20  \n9                         5                   20  \n"
        }
      ],
      "execution_count": 115
    },
    {
      "id": "84c6309d-0009-434c-95ac-7baa508e03e1",
      "cell_type": "markdown",
      "source": "Pandas - Zadanie 5 - Doświadczenie\n\nDo zbioru danych należy dodać kolumnę, która będzie mówiła o poziomie doświadczenia danej osoby, w sposób\nsłowny, przyjmując:\n\nJunior (do 3 lat doświadczenia)\nMid (4 do 8 lat)\nSenior (9 do 12 lat)\nEkspert (od 13 lat)",
      "metadata": {}
    },
    {
      "id": "da9abd89-0062-49c2-aaa9-7baebc0969c2",
      "cell_type": "code",
      "source": "def poziom_doswiadczenia():\n    doswiadczenie = []\n    for lata in dane['doświadczenie(lata)']:\n        if lata <=3:\n            doswiadczenie.append('Junior')\n        elif 4 <= lata <= 8:\n            doswiadczenie.append('Mid')\n        elif 9 <= lata <= 12:\n            doswiadczenie.append('Senior')\n        else:\n            doswiadczenie.append('Ekspert')\n    return doswiadczenie\n\ndane.insert(13, \"Doswiadczenie\", poziom_doswiadczenia())",
      "metadata": {
        "trusted": true
      },
      "outputs": [],
      "execution_count": 116
    },
    {
      "id": "d2ede8ec-2d9f-44e6-9bc6-5d20e143c65f",
      "cell_type": "code",
      "source": "print(dane.head(33))",
      "metadata": {
        "trusted": true
      },
      "outputs": [
        {
          "name": "stdout",
          "output_type": "stream",
          "text": "          imię nazwisko       plec  rok urodzenia  miesiąc urodzenia  \\\n0         Adam   Abacki  Mezczyzna           1970                  3   \n1      Barbara  Babacka    Kobieta           1971                  4   \n2       Celina  Cabacka    Kobieta           1969                  6   \n3      Dariusz  Dabacki  Mezczyzna           1972                  8   \n4      Ewelina   Ebacka    Kobieta           1968                 10   \n5    Ferdynand  Fabacki  Mezczyzna           1973                 11   \n6     Grzegorz  Gabacki  Mezczyzna           1967                 12   \n7       Halina  Habacka    Kobieta           1974                 11   \n8        Iwona   Ibacka    Kobieta           1966                 10   \n9       Janusz   Abacki  Mezczyzna           1975                  9   \n10    Karolina  Babacka    Kobieta           1965                  8   \n11        Leon  Cabacki  Mezczyzna           1976                  7   \n12      Michal  Dabacki  Mezczyzna           1964                  6   \n13     Natalia   Ebacka    Kobieta           1977                  5   \n14       Oskar  Fabacki  Mezczyzna           1963                  4   \n15    Patrycja  Gabacka    Kobieta           1978                  3   \n16       Roman   Abacki  Mezczyzna           1962                  2   \n17  Stanislawa  Babacka    Kobieta           1979                  1   \n18      Tomasz  Cabacki  Mezczyzna           1961                  2   \n19     Urszula  Dabacka    Kobieta           1980                  3   \n20   Wladyslaw   Ebacki  Mezczyzna           1960                  4   \n21       Zofia  Fabacka    Kobieta           1981                  5   \n22   Anastazja   Abacka    Kobieta           1990                  6   \n23      Antoni   Abacki  Mezczyzna           1982                  7   \n24       Beata  Babacka    Kobieta           1991                  8   \n25      Cezary  Cabacki  Mezczyzna           1983                  9   \n26      Daniel  Dabacki  Mezczyzna           1992                 10   \n27         Ewa   Ebacka    Kobieta           1984                 11   \n28  Franciszek   Abacki  Mezczyzna           1993                 12   \n29    Boleslaw  Babacki  Mezczyzna           1985                 11   \n30     Dariusz  Cabacki  Mezczyzna           1994                 10   \n31     Mariusz  Dabacki  Mezczyzna           1986                  9   \n32      Wiktor   Abacki  Mezczyzna           1995                  8   \n\n    dzień urodzenia miejsce urodzenia oddział firmy           departament  \\\n0                 4            Gdansk        Gdansk          Data Science   \n1                 5            Gdynia        Gdansk          Data Science   \n2                 7             Sopot        Gdansk  Software Development   \n3                 9            Lublin        Gdansk                    HR   \n4                11          Warszawa        Gdansk            Accounting   \n5                12         Walbrzych        Gdansk                    HR   \n6                13            Gdansk        Gdansk  Software Development   \n7                14          Warszawa        Gdansk            Accounting   \n8                15            Poznan        Gdansk                 Sales   \n9                16            Gdynia        Gdansk                 Sales   \n10               17           Legnica        Gdansk          Data Science   \n11               18           Wroclaw        Krakow          Data Science   \n12               19       Swinoujscie        Gdansk                    HR   \n13               20          Zakopane        Krakow                    HR   \n14               21            Gdansk        Krakow          Data Science   \n15               22           Rzeszow        Krakow  Software Development   \n16               23            Lublin        Krakow          Data Science   \n17               24        Inowroclaw        Krakow  Software Development   \n18               25         Bydgoszcz        Krakow          Data Science   \n19               24         Bydgoszcz        Krakow          Data Science   \n20               23            Poznan        Krakow          Data Science   \n21               22            Gdansk        Krakow                    HR   \n22               21            Gdansk        Krakow                    HR   \n23               20          Warszawa        Krakow                    HR   \n24               19            Krakow        Krakow  Software Development   \n25               18            Gdynia        Krakow          Data Science   \n26               17            Gdansk        Krakow  Software Development   \n27               16          Zakopane        Krakow  Software Development   \n28               15            Lublin        Krakow          Data Science   \n29               14          Katowice        Krakow          Data Science   \n30               13          Katowice        Krakow            Accounting   \n31               12            Gdansk      Warszawa            Accounting   \n32               11            Gdansk      Warszawa            Accounting   \n\n    rok rozpoczęcia pracy w firmie  miesiąc rozpoczęcia pracy  \\\n0                           2015.0                          4   \n1                              NaN                          5   \n2                           2013.0                          6   \n3                           2020.0                          4   \n4                           2000.0                          7   \n5                           2001.0                          8   \n6                           2002.0                          4   \n7                           2003.0                          9   \n8                           2004.0                         10   \n9                           1995.0                         11   \n10                          2005.0                          4   \n11                          2006.0                          4   \n12                          2007.0                         12   \n13                          2008.0                          4   \n14                          2009.0                          4   \n15                          2010.0                          4   \n16                             NaN                          5   \n17                          2012.0                          4   \n18                          2013.0                          6   \n19                          2014.0                          4   \n20                          2015.0                          7   \n21                             NaN                          8   \n22                          2017.0                          9   \n23                          2018.0                         10   \n24                          2019.0                          4   \n25                             NaN                          4   \n26                          1995.0                         12   \n27                          1996.0                         11   \n28                          1997.0                          4   \n29                          1998.0                          4   \n30                          1999.0                          9   \n31                          2019.0                          8   \n32                          2018.0                          4   \n\n    dzień rozpoczęcia pracy  doświadczenie(lata) Doswiadczenie  \n0                         5                   20       Ekspert  \n1                        15                   10        Senior  \n2                        25                   35       Ekspert  \n3                         5                    4           Mid  \n4                        15                   30       Ekspert  \n5                        25                   20       Ekspert  \n6                         5                   18       Ekspert  \n7                        15                   17       Ekspert  \n8                        25                   16       Ekspert  \n9                         5                   20       Ekspert  \n10                       15                   30       Ekspert  \n11                       25                   24       Ekspert  \n12                        5                   21       Ekspert  \n13                       10                   20       Ekspert  \n14                       25                   10        Senior  \n15                        5                    9        Senior  \n16                       12                    8           Mid  \n17                        5                    7           Mid  \n18                       13                    6           Mid  \n19                       14                    5           Mid  \n20                       16                   15       Ekspert  \n21                       25                   14       Ekspert  \n22                       25                   13       Ekspert  \n23                       20                   12        Senior  \n24                       24                   11        Senior  \n25                       21                   12        Senior  \n26                        5                   10        Senior  \n27                       15                    9        Senior  \n28                       25                    8           Mid  \n29                       25                    7           Mid  \n30                        5                    6           Mid  \n31                        5                    5           Mid  \n32                       15                    4           Mid  \n"
        }
      ],
      "execution_count": 117
    },
    {
      "id": "f0374ddd-04ff-4753-9dbb-870ad7e04093",
      "cell_type": "markdown",
      "source": "Pandas - Zadanie 6 - Rok dołączenia\n\nKolumna reprezentująca rok dołączenia do firmy ma puste wartości. Uzupełnij brakujące wartości używając\nśredniej dla osób o takim samym poziomie doświadczenia (kolumna z Zadania 3), w skali całej firmy.",
      "metadata": {}
    },
    {
      "id": "781ef2cb-8161-4ddb-9781-df523d862d54",
      "cell_type": "code",
      "source": "doswiadczenie_pogrupowane = dane.groupby('Doswiadczenie')['rok rozpoczęcia pracy w firmie'].mean()\nprint(doswiadczenie_pogrupowane)\n\n",
      "metadata": {
        "trusted": true
      },
      "outputs": [
        {
          "name": "stdout",
          "output_type": "stream",
          "text": "Doswiadczenie\nEkspert    2008.736842\nMid        2010.000000\nSenior     2007.833333\nName: rok rozpoczęcia pracy w firmie, dtype: float64\n"
        }
      ],
      "execution_count": 118
    },
    {
      "id": "6a282543-4042-400c-8dab-36b70802486e",
      "cell_type": "code",
      "source": "    slownik = {\n        'Ekspert': 2008,\n        'Mid':2010,\n        'Senior':2007\n    }\nzmapowane_lata = dane['Doswiadczenie'].map(slownik)\ndane['rok rozpoczęcia pracy w firmie'] = dane['rok rozpoczęcia pracy w firmie'].fillna(zmapowane_lata)",
      "metadata": {
        "trusted": true
      },
      "outputs": [],
      "execution_count": 119
    },
    {
      "id": "6beb1c84-d4b4-443e-bcb3-657b7eb4285e",
      "cell_type": "code",
      "source": "print(dane.head(20))",
      "metadata": {
        "trusted": true
      },
      "outputs": [
        {
          "name": "stdout",
          "output_type": "stream",
          "text": "          imię nazwisko       plec  rok urodzenia  miesiąc urodzenia  \\\n0         Adam   Abacki  Mezczyzna           1970                  3   \n1      Barbara  Babacka    Kobieta           1971                  4   \n2       Celina  Cabacka    Kobieta           1969                  6   \n3      Dariusz  Dabacki  Mezczyzna           1972                  8   \n4      Ewelina   Ebacka    Kobieta           1968                 10   \n5    Ferdynand  Fabacki  Mezczyzna           1973                 11   \n6     Grzegorz  Gabacki  Mezczyzna           1967                 12   \n7       Halina  Habacka    Kobieta           1974                 11   \n8        Iwona   Ibacka    Kobieta           1966                 10   \n9       Janusz   Abacki  Mezczyzna           1975                  9   \n10    Karolina  Babacka    Kobieta           1965                  8   \n11        Leon  Cabacki  Mezczyzna           1976                  7   \n12      Michal  Dabacki  Mezczyzna           1964                  6   \n13     Natalia   Ebacka    Kobieta           1977                  5   \n14       Oskar  Fabacki  Mezczyzna           1963                  4   \n15    Patrycja  Gabacka    Kobieta           1978                  3   \n16       Roman   Abacki  Mezczyzna           1962                  2   \n17  Stanislawa  Babacka    Kobieta           1979                  1   \n18      Tomasz  Cabacki  Mezczyzna           1961                  2   \n19     Urszula  Dabacka    Kobieta           1980                  3   \n\n    dzień urodzenia miejsce urodzenia oddział firmy           departament  \\\n0                 4            Gdansk        Gdansk          Data Science   \n1                 5            Gdynia        Gdansk          Data Science   \n2                 7             Sopot        Gdansk  Software Development   \n3                 9            Lublin        Gdansk                    HR   \n4                11          Warszawa        Gdansk            Accounting   \n5                12         Walbrzych        Gdansk                    HR   \n6                13            Gdansk        Gdansk  Software Development   \n7                14          Warszawa        Gdansk            Accounting   \n8                15            Poznan        Gdansk                 Sales   \n9                16            Gdynia        Gdansk                 Sales   \n10               17           Legnica        Gdansk          Data Science   \n11               18           Wroclaw        Krakow          Data Science   \n12               19       Swinoujscie        Gdansk                    HR   \n13               20          Zakopane        Krakow                    HR   \n14               21            Gdansk        Krakow          Data Science   \n15               22           Rzeszow        Krakow  Software Development   \n16               23            Lublin        Krakow          Data Science   \n17               24        Inowroclaw        Krakow  Software Development   \n18               25         Bydgoszcz        Krakow          Data Science   \n19               24         Bydgoszcz        Krakow          Data Science   \n\n    rok rozpoczęcia pracy w firmie  miesiąc rozpoczęcia pracy  \\\n0                           2015.0                          4   \n1                           2007.0                          5   \n2                           2013.0                          6   \n3                           2020.0                          4   \n4                           2000.0                          7   \n5                           2001.0                          8   \n6                           2002.0                          4   \n7                           2003.0                          9   \n8                           2004.0                         10   \n9                           1995.0                         11   \n10                          2005.0                          4   \n11                          2006.0                          4   \n12                          2007.0                         12   \n13                          2008.0                          4   \n14                          2009.0                          4   \n15                          2010.0                          4   \n16                          2010.0                          5   \n17                          2012.0                          4   \n18                          2013.0                          6   \n19                          2014.0                          4   \n\n    dzień rozpoczęcia pracy  doświadczenie(lata) Doswiadczenie  \n0                         5                   20       Ekspert  \n1                        15                   10        Senior  \n2                        25                   35       Ekspert  \n3                         5                    4           Mid  \n4                        15                   30       Ekspert  \n5                        25                   20       Ekspert  \n6                         5                   18       Ekspert  \n7                        15                   17       Ekspert  \n8                        25                   16       Ekspert  \n9                         5                   20       Ekspert  \n10                       15                   30       Ekspert  \n11                       25                   24       Ekspert  \n12                        5                   21       Ekspert  \n13                       10                   20       Ekspert  \n14                       25                   10        Senior  \n15                        5                    9        Senior  \n16                       12                    8           Mid  \n17                        5                    7           Mid  \n18                       13                    6           Mid  \n19                       14                    5           Mid  \n"
        }
      ],
      "execution_count": 120
    },
    {
      "id": "16a4f9eb-8eb9-42bd-8c4d-9da80a2e8c51",
      "cell_type": "markdown",
      "source": "Pandas - Zadanie 7 - Data Scientists\n\nKtóry oddział firmy ma najwięcej Data Scientistów ?",
      "metadata": {}
    },
    {
      "id": "dc2bcab2-b3f2-43d8-95fb-01a4ec30e03d",
      "cell_type": "code",
      "source": "data_scientists = dane[dane['departament']=='Data Science']\nile_ds = data_scientists.groupby('oddział firmy').size()\nmax_oddzial = ile_ds.idxmax()",
      "metadata": {
        "trusted": true
      },
      "outputs": [],
      "execution_count": 121
    },
    {
      "id": "30676d1c-294f-4f93-b0a2-a298bb5da08c",
      "cell_type": "code",
      "source": "print(max_oddzial)\nprint(ile_ds.max())",
      "metadata": {
        "trusted": true
      },
      "outputs": [
        {
          "name": "stdout",
          "output_type": "stream",
          "text": "Krakow\n9\n"
        }
      ],
      "execution_count": 122
    },
    {
      "id": "27b024cd-5374-494d-92cb-0d764d70659e",
      "cell_type": "markdown",
      "source": "Pandas - Zadanie 8 - Nazwy departamentów\n\nSzef chciałby zmienić nazewnictwo departamentów w całej firmie. Napisz kod, który zamieni wartości w\nkolumnie reprezentującej departament, nastepująco:\n\nSoftware Development -> Software Development Team\nHR -> Human Resources\nData Science -> Data Analytics",
      "metadata": {}
    },
    {
      "id": "6a37e05b-5f7e-4a9a-83e0-e45b3cd7e577",
      "cell_type": "code",
      "source": "def nazwa_dept(row):\n    if row == \"Software Developement\":\n        return \"Software Development Team\"\n    elif row == \"HR\":\n        return \"Human Resources\"\n    elif row == \"Data Science\":\n        return \"Data Analytics\"\n    else:\n        return row\n\ndane['departament'] = dane['departament'].apply(nazwa_dept)\n",
      "metadata": {
        "trusted": true
      },
      "outputs": [],
      "execution_count": 123
    },
    {
      "id": "abb8992e-53ff-42bc-a7d1-e6a766b96857",
      "cell_type": "code",
      "source": "wybrane_kolumny = dane[['imię', 'nazwisko', 'departament']]\nprint(wybrane_kolumny.head(15))",
      "metadata": {
        "trusted": true
      },
      "outputs": [
        {
          "name": "stdout",
          "output_type": "stream",
          "text": "         imię nazwisko           departament\n0        Adam   Abacki        Data Analytics\n1     Barbara  Babacka        Data Analytics\n2      Celina  Cabacka  Software Development\n3     Dariusz  Dabacki       Human Resources\n4     Ewelina   Ebacka            Accounting\n5   Ferdynand  Fabacki       Human Resources\n6    Grzegorz  Gabacki  Software Development\n7      Halina  Habacka            Accounting\n8       Iwona   Ibacka                 Sales\n9      Janusz   Abacki                 Sales\n10   Karolina  Babacka        Data Analytics\n11       Leon  Cabacki        Data Analytics\n12     Michal  Dabacki       Human Resources\n13    Natalia   Ebacka       Human Resources\n14      Oskar  Fabacki        Data Analytics\n"
        }
      ],
      "execution_count": 124
    },
    {
      "id": "8a494112-e637-4da3-8c52-7cb541a57c16",
      "cell_type": "markdown",
      "source": "Pandas - Zadanie 9 - Seniorzy\n\nKtóre biuro firmy ma najwięcej osób na Seniorskim poziomie doświadczenia ?",
      "metadata": {}
    },
    {
      "id": "86e4fd50-a16d-4be6-bfd0-773c38e2666e",
      "cell_type": "code",
      "source": "oddzial_senior = dane[dane['Doswiadczenie']=='Senior']['oddział firmy'].value_counts()",
      "metadata": {
        "trusted": true
      },
      "outputs": [],
      "execution_count": 125
    },
    {
      "id": "95c57763-4570-4779-9e25-302d99952cb9",
      "cell_type": "code",
      "source": "print(f\"Najwiecej seniorów znajduje się w {oddzial_senior.idxmax()}\")\nprint(f\"Liczba seniorów to {oddzial_senior.max()}\")",
      "metadata": {
        "trusted": true
      },
      "outputs": [
        {
          "name": "stdout",
          "output_type": "stream",
          "text": "Najwiecej seniorów znajduje się w Krakow\nLiczba seniorów to 7\n"
        }
      ],
      "execution_count": 132
    },
    {
      "id": "a9081048-5915-40e4-a3eb-bf953d5fa330",
      "cell_type": "markdown",
      "source": "Pandas - Zadanie 10 - Kobiety Juniorzy\n\nKtóre biuro ma najwięcej kobiet na Juniorskim poziomie doświadczenia ?",
      "metadata": {}
    },
    {
      "id": "d30fee3f-e3fe-42b5-baf6-fbca67312c48",
      "cell_type": "code",
      "source": "kobieta_junior = dane[(dane['plec'] == 'Kobieta') & (dane['Doswiadczenie'] == 'Junior')]['oddział firmy'].value_counts()\n\nprint(kobieta_junior)",
      "metadata": {
        "trusted": true
      },
      "outputs": [
        {
          "name": "stdout",
          "output_type": "stream",
          "text": "Series([], Name: count, dtype: int64)\n"
        }
      ],
      "execution_count": 135
    },
    {
      "id": "8b8e4736-0bb9-49ba-8bcf-dcc5d9d7132e",
      "cell_type": "markdown",
      "source": "Pandas - Zadanie 11 - Kobiety Mid\n\nIle jest kobiet w krakowskim biurze, na Mid poziomie doświadczenia, urodzonych przed 1975 rokiem ?",
      "metadata": {}
    },
    {
      "id": "d5cbb423-b82d-4668-bd3a-5debefc383b3",
      "cell_type": "code",
      "source": "kobieta_krk_mid_1975 = dane[(dane['plec']=='Kobieta') & (dane['oddział firmy']=='Krakow') & (dane['Doswiadczenie']=='Mid') & (dane['rok urodzenia'] < 1975)]",
      "metadata": {
        "trusted": true
      },
      "outputs": [],
      "execution_count": 136
    },
    {
      "id": "c24a5b61-f30b-4bef-99ff-a17a044e49b6",
      "cell_type": "code",
      "source": "print(kobieta_krk_mid_1975)",
      "metadata": {
        "trusted": true
      },
      "outputs": [
        {
          "name": "stdout",
          "output_type": "stream",
          "text": "Empty DataFrame\nColumns: [imię, nazwisko, plec, rok urodzenia, miesiąc urodzenia, dzień urodzenia, miejsce urodzenia, oddział firmy, departament, rok rozpoczęcia pracy w firmie, miesiąc rozpoczęcia pracy, dzień rozpoczęcia pracy, doświadczenie(lata), Doswiadczenie]\nIndex: []\n"
        }
      ],
      "execution_count": 137
    },
    {
      "id": "48ffea6d-aae8-4c25-8e37-6c1787068d50",
      "cell_type": "markdown",
      "source": "Pandas - Zadanie 12 - Seniorzy z ostatnich 10 lat\n\nIle osób, które posiadają obecnie stanowisko seniorskie, dołączyło do firmy w przeciągu ostatnich 10 lat?",
      "metadata": {}
    },
    {
      "id": "f13962d1-0b3c-4aeb-8fd9-659d4e8b53a0",
      "cell_type": "code",
      "source": "today_year = pd.Timestamp.now().year\nyear_diff = today_year - dane['rok rozpoczęcia pracy w firmie']\nstaz_10_lat = dane[(dane['Doswiadczenie']=='Senior') & (year_diff <= 10)]",
      "metadata": {
        "trusted": true
      },
      "outputs": [],
      "execution_count": 138
    },
    {
      "id": "3af09f60-a206-4ce7-a8ce-02d6f5b9adc5",
      "cell_type": "code",
      "source": "print(f\"Liczba seniorów, któa dołączyła do firmy w przeciągu ostatnich 10 lat wynosi: {staz_10_lat.shape[0]}\")",
      "metadata": {
        "trusted": true
      },
      "outputs": [
        {
          "name": "stdout",
          "output_type": "stream",
          "text": "Liczba seniorów, któa dołączyła do firmy w przeciągu ostatnich 10 lat wynosi: 2\n"
        }
      ],
      "execution_count": 148
    },
    {
      "id": "d8b95e37-c363-42ed-b39a-6499aa6cd0dd",
      "cell_type": "code",
      "source": "",
      "metadata": {
        "trusted": true
      },
      "outputs": [],
      "execution_count": null
    }
  ]
}