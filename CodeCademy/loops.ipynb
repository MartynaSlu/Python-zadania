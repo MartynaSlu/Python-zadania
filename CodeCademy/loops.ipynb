{
 "cells": [
  {
   "cell_type": "markdown",
   "id": "9ba0c28c",
   "metadata": {},
   "source": [
    "1. Import pandas"
   ]
  },
  {
   "cell_type": "code",
   "execution_count": 1,
   "id": "684c3c1c",
   "metadata": {},
   "outputs": [],
   "source": [
    "import pandas as pd"
   ]
  },
  {
   "cell_type": "markdown",
   "id": "f5ea0263",
   "metadata": {},
   "source": [
    "2. There are seven files with names `rollercoasters_0.csv`, `rollercoasters_1.csv`, and on through `rollercoasters_6.csv`. Use a for loop to generate a list of these file names."
   ]
  },
  {
   "cell_type": "code",
   "execution_count": 2,
   "id": "dace81e4",
   "metadata": {},
   "outputs": [
    {
     "name": "stdout",
     "output_type": "stream",
     "text": [
      "['rollercoasters_0.csv', 'rollercoasters_1.csv', 'rollercoasters_2.csv', 'rollercoasters_3.csv', 'rollercoasters_4.csv', 'rollercoasters_5.csv', 'rollercoasters_6.csv']\n"
     ]
    }
   ],
   "source": [
    "files = []\n",
    "for i in range(7):\n",
    "    files.append(f'rollercoasters_{i}.csv')\n",
    "print(files)"
   ]
  },
  {
   "cell_type": "markdown",
   "id": "5bb7ef93",
   "metadata": {},
   "source": [
    "3. Use the list from the prior task to read the CSVs into a list of filenames. Preview the first DataFrame to see the structure."
   ]
  },
  {
   "cell_type": "code",
   "execution_count": 4,
   "id": "0b77b6f9",
   "metadata": {},
   "outputs": [
    {
     "data": {
      "text/html": [
       "<div>\n",
       "<style scoped>\n",
       "    .dataframe tbody tr th:only-of-type {\n",
       "        vertical-align: middle;\n",
       "    }\n",
       "\n",
       "    .dataframe tbody tr th {\n",
       "        vertical-align: top;\n",
       "    }\n",
       "\n",
       "    .dataframe thead th {\n",
       "        text-align: right;\n",
       "    }\n",
       "</style>\n",
       "<table border=\"1\" class=\"dataframe\">\n",
       "  <thead>\n",
       "    <tr style=\"text-align: right;\">\n",
       "      <th></th>\n",
       "      <th>Ride_ID</th>\n",
       "      <th>Ride_Name</th>\n",
       "      <th>Material</th>\n",
       "      <th>Max_Riders</th>\n",
       "      <th>Max_MPH</th>\n",
       "      <th>Max_Height</th>\n",
       "      <th>Duration</th>\n",
       "      <th>Req_Height</th>\n",
       "    </tr>\n",
       "  </thead>\n",
       "  <tbody>\n",
       "    <tr>\n",
       "      <th>0</th>\n",
       "      <td>A000</td>\n",
       "      <td>Cheetah Rush</td>\n",
       "      <td>Steel</td>\n",
       "      <td>24.0</td>\n",
       "      <td>80.0</td>\n",
       "      <td>60.0</td>\n",
       "      <td>180.0</td>\n",
       "      <td>48.0</td>\n",
       "    </tr>\n",
       "    <tr>\n",
       "      <th>1</th>\n",
       "      <td>A002</td>\n",
       "      <td>grazing wildebeest run</td>\n",
       "      <td>Steel</td>\n",
       "      <td>20.0</td>\n",
       "      <td>50.0</td>\n",
       "      <td>110.5</td>\n",
       "      <td>180.0</td>\n",
       "      <td>36.0</td>\n",
       "    </tr>\n",
       "    <tr>\n",
       "      <th>2</th>\n",
       "      <td>A004</td>\n",
       "      <td>Ostrich Race</td>\n",
       "      <td>Wooden</td>\n",
       "      <td>24.0</td>\n",
       "      <td>45.0</td>\n",
       "      <td>50.2</td>\n",
       "      <td>240.0</td>\n",
       "      <td>36.0</td>\n",
       "    </tr>\n",
       "    <tr>\n",
       "      <th>3</th>\n",
       "      <td>A005</td>\n",
       "      <td>Rolling Rhino Coaster</td>\n",
       "      <td>MIXED</td>\n",
       "      <td>36.0</td>\n",
       "      <td>10.0</td>\n",
       "      <td>12.5</td>\n",
       "      <td>360.0</td>\n",
       "      <td>0.0</td>\n",
       "    </tr>\n",
       "    <tr>\n",
       "      <th>4</th>\n",
       "      <td>A008</td>\n",
       "      <td>Gorongosa Gazelle Races</td>\n",
       "      <td>Steel</td>\n",
       "      <td>24.0</td>\n",
       "      <td>60.0</td>\n",
       "      <td>52.4</td>\n",
       "      <td>240.0</td>\n",
       "      <td>36.0</td>\n",
       "    </tr>\n",
       "  </tbody>\n",
       "</table>\n",
       "</div>"
      ],
      "text/plain": [
       "  Ride_ID                Ride_Name Material  Max_Riders  Max_MPH  Max_Height  \\\n",
       "0    A000             Cheetah Rush    Steel        24.0     80.0        60.0   \n",
       "1    A002   grazing wildebeest run    Steel        20.0     50.0       110.5   \n",
       "2    A004             Ostrich Race   Wooden        24.0     45.0        50.2   \n",
       "3    A005    Rolling Rhino Coaster    MIXED        36.0     10.0        12.5   \n",
       "4    A008  Gorongosa Gazelle Races    Steel        24.0     60.0        52.4   \n",
       "\n",
       "   Duration  Req_Height  \n",
       "0     180.0        48.0  \n",
       "1     180.0        36.0  \n",
       "2     240.0        36.0  \n",
       "3     360.0         0.0  \n",
       "4     240.0        36.0  "
      ]
     },
     "execution_count": 4,
     "metadata": {},
     "output_type": "execute_result"
    }
   ],
   "source": [
    "dataframes = [pd.read_csv(file) for file in files]\n",
    "dataframes[0].head()"
   ]
  },
  {
   "cell_type": "markdown",
   "id": "d3f8cbc3",
   "metadata": {},
   "source": [
    "4. Concatenate the list from the prior task into a single DataFrame. Preview the first five lines."
   ]
  },
  {
   "cell_type": "code",
   "execution_count": 6,
   "id": "7898c688",
   "metadata": {},
   "outputs": [
    {
     "data": {
      "text/html": [
       "<div>\n",
       "<style scoped>\n",
       "    .dataframe tbody tr th:only-of-type {\n",
       "        vertical-align: middle;\n",
       "    }\n",
       "\n",
       "    .dataframe tbody tr th {\n",
       "        vertical-align: top;\n",
       "    }\n",
       "\n",
       "    .dataframe thead th {\n",
       "        text-align: right;\n",
       "    }\n",
       "</style>\n",
       "<table border=\"1\" class=\"dataframe\">\n",
       "  <thead>\n",
       "    <tr style=\"text-align: right;\">\n",
       "      <th></th>\n",
       "      <th>Ride_ID</th>\n",
       "      <th>Ride_Name</th>\n",
       "      <th>Material</th>\n",
       "      <th>Max_Riders</th>\n",
       "      <th>Max_MPH</th>\n",
       "      <th>Max_Height</th>\n",
       "      <th>Duration</th>\n",
       "      <th>Req_Height</th>\n",
       "      <th>Height_Req</th>\n",
       "    </tr>\n",
       "  </thead>\n",
       "  <tbody>\n",
       "    <tr>\n",
       "      <th>0</th>\n",
       "      <td>A000</td>\n",
       "      <td>Cheetah Rush</td>\n",
       "      <td>Steel</td>\n",
       "      <td>24.0</td>\n",
       "      <td>80.0</td>\n",
       "      <td>60.0</td>\n",
       "      <td>180.0</td>\n",
       "      <td>48.0</td>\n",
       "      <td>NaN</td>\n",
       "    </tr>\n",
       "    <tr>\n",
       "      <th>1</th>\n",
       "      <td>A002</td>\n",
       "      <td>grazing wildebeest run</td>\n",
       "      <td>Steel</td>\n",
       "      <td>20.0</td>\n",
       "      <td>50.0</td>\n",
       "      <td>110.5</td>\n",
       "      <td>180.0</td>\n",
       "      <td>36.0</td>\n",
       "      <td>NaN</td>\n",
       "    </tr>\n",
       "    <tr>\n",
       "      <th>2</th>\n",
       "      <td>A004</td>\n",
       "      <td>Ostrich Race</td>\n",
       "      <td>Wooden</td>\n",
       "      <td>24.0</td>\n",
       "      <td>45.0</td>\n",
       "      <td>50.2</td>\n",
       "      <td>240.0</td>\n",
       "      <td>36.0</td>\n",
       "      <td>NaN</td>\n",
       "    </tr>\n",
       "    <tr>\n",
       "      <th>3</th>\n",
       "      <td>A005</td>\n",
       "      <td>Rolling Rhino Coaster</td>\n",
       "      <td>MIXED</td>\n",
       "      <td>36.0</td>\n",
       "      <td>10.0</td>\n",
       "      <td>12.5</td>\n",
       "      <td>360.0</td>\n",
       "      <td>0.0</td>\n",
       "      <td>NaN</td>\n",
       "    </tr>\n",
       "    <tr>\n",
       "      <th>4</th>\n",
       "      <td>A008</td>\n",
       "      <td>Gorongosa Gazelle Races</td>\n",
       "      <td>Steel</td>\n",
       "      <td>24.0</td>\n",
       "      <td>60.0</td>\n",
       "      <td>52.4</td>\n",
       "      <td>240.0</td>\n",
       "      <td>36.0</td>\n",
       "      <td>NaN</td>\n",
       "    </tr>\n",
       "  </tbody>\n",
       "</table>\n",
       "</div>"
      ],
      "text/plain": [
       "  Ride_ID                Ride_Name Material  Max_Riders  Max_MPH  Max_Height  \\\n",
       "0    A000             Cheetah Rush    Steel        24.0     80.0        60.0   \n",
       "1    A002   grazing wildebeest run    Steel        20.0     50.0       110.5   \n",
       "2    A004             Ostrich Race   Wooden        24.0     45.0        50.2   \n",
       "3    A005    Rolling Rhino Coaster    MIXED        36.0     10.0        12.5   \n",
       "4    A008  Gorongosa Gazelle Races    Steel        24.0     60.0        52.4   \n",
       "\n",
       "   Duration  Req_Height  Height_Req  \n",
       "0     180.0        48.0         NaN  \n",
       "1     180.0        36.0         NaN  \n",
       "2     240.0        36.0         NaN  \n",
       "3     360.0         0.0         NaN  \n",
       "4     240.0        36.0         NaN  "
      ]
     },
     "execution_count": 6,
     "metadata": {},
     "output_type": "execute_result"
    }
   ],
   "source": [
    "all_dfs = pd.concat(dataframes)\n",
    "all_dfs.head(5)"
   ]
  },
  {
   "cell_type": "markdown",
   "id": "b1e58d5c",
   "metadata": {},
   "source": [
    "5. It looks like there might be some differing column names: `Req_Height` and `Height_Req` are both present. Use a loop to figure out which of the DataFrames have which column name."
   ]
  },
  {
   "cell_type": "code",
   "execution_count": 9,
   "id": "7d5597b6",
   "metadata": {},
   "outputs": [
    {
     "name": "stdout",
     "output_type": "stream",
     "text": [
      "rollercoasters_0.csv columns:\n",
      "Index(['Ride_ID', 'Ride_Name', 'Material', 'Max_Riders', 'Max_MPH',\n",
      "       'Max_Height', 'Duration', 'Req_Height'],\n",
      "      dtype='object')\n",
      "----------------------------------------\n",
      "rollercoasters_1.csv columns:\n",
      "Index(['Ride_ID', 'Ride_Name', 'Material', 'Max_Riders', 'Max_MPH',\n",
      "       'Max_Height', 'Duration', 'Height_Req'],\n",
      "      dtype='object')\n",
      "----------------------------------------\n",
      "rollercoasters_2.csv columns:\n",
      "Index(['Ride_ID', 'Ride_Name', 'Material', 'Max_Riders', 'Max_MPH',\n",
      "       'Max_Height', 'Duration', 'Height_Req'],\n",
      "      dtype='object')\n",
      "----------------------------------------\n",
      "rollercoasters_3.csv columns:\n",
      "Index(['Ride_ID', 'Ride_Name', 'Material', 'Max_Riders', 'Max_MPH',\n",
      "       'Max_Height', 'Duration', 'Height_Req'],\n",
      "      dtype='object')\n",
      "----------------------------------------\n",
      "rollercoasters_4.csv columns:\n",
      "Index(['Ride_ID', 'Ride_Name', 'Material', 'Max_Riders', 'Max_MPH',\n",
      "       'Max_Height', 'Duration', 'Height_Req'],\n",
      "      dtype='object')\n",
      "----------------------------------------\n",
      "rollercoasters_5.csv columns:\n",
      "Index(['Ride_ID', 'Ride_Name', 'Material', 'Max_Riders', 'Max_MPH',\n",
      "       'Max_Height', 'Duration', 'Height_Req'],\n",
      "      dtype='object')\n",
      "----------------------------------------\n",
      "rollercoasters_6.csv columns:\n",
      "Index(['Ride_ID', 'Ride_Name', 'Material', 'Max_Riders', 'Max_MPH',\n",
      "       'Max_Height', 'Duration', 'Height_Req'],\n",
      "      dtype='object')\n",
      "----------------------------------------\n"
     ]
    }
   ],
   "source": [
    "for i, df in enumerate(dataframes):\n",
    "    print(f\"rollercoasters_{i}.csv columns:\")\n",
    "    print(df.columns)\n",
    "    print(\"-\" * 40)\n"
   ]
  },
  {
   "cell_type": "markdown",
   "id": "045fb809",
   "metadata": {},
   "source": [
    "6. Based on your findings, update column names and re-do the concatenation to remove the duplicate columns."
   ]
  },
  {
   "cell_type": "code",
   "execution_count": 11,
   "id": "0135282b",
   "metadata": {},
   "outputs": [
    {
     "data": {
      "text/html": [
       "<div>\n",
       "<style scoped>\n",
       "    .dataframe tbody tr th:only-of-type {\n",
       "        vertical-align: middle;\n",
       "    }\n",
       "\n",
       "    .dataframe tbody tr th {\n",
       "        vertical-align: top;\n",
       "    }\n",
       "\n",
       "    .dataframe thead th {\n",
       "        text-align: right;\n",
       "    }\n",
       "</style>\n",
       "<table border=\"1\" class=\"dataframe\">\n",
       "  <thead>\n",
       "    <tr style=\"text-align: right;\">\n",
       "      <th></th>\n",
       "      <th>Ride_ID</th>\n",
       "      <th>Ride_Name</th>\n",
       "      <th>Material</th>\n",
       "      <th>Max_Riders</th>\n",
       "      <th>Max_MPH</th>\n",
       "      <th>Max_Height</th>\n",
       "      <th>Duration</th>\n",
       "      <th>Height_Req</th>\n",
       "    </tr>\n",
       "  </thead>\n",
       "  <tbody>\n",
       "    <tr>\n",
       "      <th>0</th>\n",
       "      <td>A000</td>\n",
       "      <td>Cheetah Rush</td>\n",
       "      <td>Steel</td>\n",
       "      <td>24.0</td>\n",
       "      <td>80.0</td>\n",
       "      <td>60.0</td>\n",
       "      <td>180.0</td>\n",
       "      <td>48.0</td>\n",
       "    </tr>\n",
       "    <tr>\n",
       "      <th>1</th>\n",
       "      <td>A002</td>\n",
       "      <td>grazing wildebeest run</td>\n",
       "      <td>Steel</td>\n",
       "      <td>20.0</td>\n",
       "      <td>50.0</td>\n",
       "      <td>110.5</td>\n",
       "      <td>180.0</td>\n",
       "      <td>36.0</td>\n",
       "    </tr>\n",
       "    <tr>\n",
       "      <th>2</th>\n",
       "      <td>A004</td>\n",
       "      <td>Ostrich Race</td>\n",
       "      <td>Wooden</td>\n",
       "      <td>24.0</td>\n",
       "      <td>45.0</td>\n",
       "      <td>50.2</td>\n",
       "      <td>240.0</td>\n",
       "      <td>36.0</td>\n",
       "    </tr>\n",
       "    <tr>\n",
       "      <th>3</th>\n",
       "      <td>A005</td>\n",
       "      <td>Rolling Rhino Coaster</td>\n",
       "      <td>MIXED</td>\n",
       "      <td>36.0</td>\n",
       "      <td>10.0</td>\n",
       "      <td>12.5</td>\n",
       "      <td>360.0</td>\n",
       "      <td>0.0</td>\n",
       "    </tr>\n",
       "    <tr>\n",
       "      <th>4</th>\n",
       "      <td>A008</td>\n",
       "      <td>Gorongosa Gazelle Races</td>\n",
       "      <td>Steel</td>\n",
       "      <td>24.0</td>\n",
       "      <td>60.0</td>\n",
       "      <td>52.4</td>\n",
       "      <td>240.0</td>\n",
       "      <td>36.0</td>\n",
       "    </tr>\n",
       "  </tbody>\n",
       "</table>\n",
       "</div>"
      ],
      "text/plain": [
       "  Ride_ID                Ride_Name Material  Max_Riders  Max_MPH  Max_Height  \\\n",
       "0    A000             Cheetah Rush    Steel        24.0     80.0        60.0   \n",
       "1    A002   grazing wildebeest run    Steel        20.0     50.0       110.5   \n",
       "2    A004             Ostrich Race   Wooden        24.0     45.0        50.2   \n",
       "3    A005    Rolling Rhino Coaster    MIXED        36.0     10.0        12.5   \n",
       "4    A008  Gorongosa Gazelle Races    Steel        24.0     60.0        52.4   \n",
       "\n",
       "   Duration  Height_Req  \n",
       "0     180.0        48.0  \n",
       "1     180.0        36.0  \n",
       "2     240.0        36.0  \n",
       "3     360.0         0.0  \n",
       "4     240.0        36.0  "
      ]
     },
     "execution_count": 11,
     "metadata": {},
     "output_type": "execute_result"
    }
   ],
   "source": [
    "dataframes[0] = dataframes[0].rename({'Req_Height':'Height_Req'},axis=1)\n",
    "all_dfs = pd.concat(dataframes)\n",
    "all_dfs.head(5)"
   ]
  },
  {
   "cell_type": "markdown",
   "id": "dfa8c60d",
   "metadata": {},
   "source": [
    "7. The columns `Ride_ID, Ride_Name, Material` are all `object` type and seem to have been encoded differently in terms of upper/lowercase. The columns `Max_Riders, Max_MPH, Duration, Height_Req` are all coming through as `float64`, but should be `int64`. Use one loop and if/elif/else statements to \n",
    "- lowercase all `object` columns\n",
    "- convert the incorrect `float64` to `int64`"
   ]
  },
  {
   "cell_type": "code",
   "execution_count": 13,
   "id": "5478d005",
   "metadata": {},
   "outputs": [],
   "source": [
    "for df in dataframes:\n",
    "    for col in df.columns:\n",
    "        if df[col].dtype == 'object':\n",
    "            df[col] = df[col].str.lower()\n",
    "        elif df[col].dtype == 'float64' and col in ['Max_Riders', 'Max_MPH', 'Duration', 'Height_Req']:\n",
    "            df[col] = df[col].astype('int64')"
   ]
  },
  {
   "cell_type": "code",
   "execution_count": null,
   "id": "4bc549f8",
   "metadata": {},
   "outputs": [],
   "source": []
  }
 ],
 "metadata": {
  "kernelspec": {
   "display_name": "Python 3 (ipykernel)",
   "language": "python",
   "name": "python3"
  },
  "language_info": {
   "codemirror_mode": {
    "name": "ipython",
    "version": 3
   },
   "file_extension": ".py",
   "mimetype": "text/x-python",
   "name": "python",
   "nbconvert_exporter": "python",
   "pygments_lexer": "ipython3",
   "version": "3.8.10"
  }
 },
 "nbformat": 4,
 "nbformat_minor": 5
}
