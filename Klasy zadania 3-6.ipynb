{
 "cells": [
  {
   "cell_type": "markdown",
   "id": "819c3173-7e39-49d3-9a2d-9431e5cd33da",
   "metadata": {},
   "source": [
    "Zadanie 3 Piosenka\n",
    "Stwórz klasę przyjmującą w konstruktorze listę będącą kolejnymi wierszami piosenki. Klasa będzie mieć metodę spiewaj, która wypisze wszystkie wiersze piosenki po kolei."
   ]
  },
  {
   "cell_type": "code",
   "execution_count": 8,
   "id": "ad2912e2-5e57-4680-98e4-5e866112e804",
   "metadata": {},
   "outputs": [],
   "source": [
    "class Piosenka:\n",
    "    def __init__(self, wiersze):\n",
    "        self.wiersze = wiersze\n",
    "\n",
    "    def spiewaj(self):\n",
    "        for line in self.wiersze:\n",
    "            print(line)\n",
    "        \n",
    "            \n",
    "                \n",
    "            "
   ]
  },
  {
   "cell_type": "code",
   "execution_count": 9,
   "id": "4738a3ec-de15-4fd1-a184-050dbe4e80e8",
   "metadata": {},
   "outputs": [
    {
     "name": "stdout",
     "output_type": "stream",
     "text": [
      "Kiedy słońce zachodzi,\n",
      "wiatr cicho gwiżdże.\n",
      "Księżyc wstaje, noc zapada,\n",
      "a gwiazdy migocą.\n"
     ]
    }
   ],
   "source": [
    "piosenka = Piosenka([\"Kiedy słońce zachodzi,\",\n",
    "    \"wiatr cicho gwiżdże.\",\n",
    "    \"Księżyc wstaje, noc zapada,\",\n",
    "    \"a gwiazdy migocą.\"])\n",
    "piosenka.spiewaj()"
   ]
  },
  {
   "cell_type": "markdown",
   "id": "b2d073ac-cab9-4017-8fa2-50612e6425fa",
   "metadata": {},
   "source": [
    "Zadanie 4 Figury geometryczne\n",
    "Zaimplementuj klasę bazową Figura. Klasa będzie mieć metody obliczające pole i obwod. Stwórz klasy reprezentujące trójkąt i prostokąt, implementujące odpowiednio obie metody."
   ]
  },
  {
   "cell_type": "code",
   "execution_count": 21,
   "id": "2524dfde-4fb6-4160-89da-c2a571e0da24",
   "metadata": {},
   "outputs": [],
   "source": [
    "class Figura:\n",
    "    def __init__(self, a, b, c, h):\n",
    "        self.a = a\n",
    "        self.b = b\n",
    "        self.c = c\n",
    "        self.h = h\n",
    "\n",
    "    def pole(self):\n",
    "        pass\n",
    "    def obwod(self):\n",
    "        pass\n",
    "\n",
    "class Trojkat(Figura):\n",
    "    def czy_trojkat(self):\n",
    "        return (self.a + self.b > self.c and\n",
    "            self.a + self.c > self.b and\n",
    "            self.b + self.c > self.a)\n",
    "    \n",
    "    def pole(self):\n",
    "        return (self.a * self.h) / 2\n",
    "        \n",
    "    def obwod(self):\n",
    "        if self.czy_trojkat():\n",
    "            return self.a + self.b + self.c\n",
    "        else:\n",
    "            return \"Nieodpowiednia dlugosc bokow trojkata.\"\n",
    "\n",
    "class Prostokat(Figura):\n",
    "    def __init__(self, a, b):\n",
    "        self.a = a\n",
    "        self.b = b\n",
    "        \n",
    "    def pole(self):\n",
    "        pole_prostokata = self.a * self.b\n",
    "        return pole_prostokata\n",
    "\n",
    "    def obwod(self):\n",
    "        obwod_prostokata = 2 * (self.a + self.b)\n",
    "        return obwod_prostokata\n",
    "    \n",
    "        "
   ]
  },
  {
   "cell_type": "code",
   "execution_count": 15,
   "id": "1d2b9a3b-f838-4681-8c26-682f315213d1",
   "metadata": {},
   "outputs": [
    {
     "data": {
      "text/plain": [
       "'Nieodpowiednia dlugosc bokow trojkata.'"
      ]
     },
     "execution_count": 15,
     "metadata": {},
     "output_type": "execute_result"
    }
   ],
   "source": [
    "trojkat = Trojkat(2,4,8,2)\n",
    "trojkat.obwod()\n"
   ]
  },
  {
   "cell_type": "code",
   "execution_count": 18,
   "id": "4f3fbcd9-a23b-4c6c-98ef-085d71afb809",
   "metadata": {},
   "outputs": [
    {
     "name": "stdout",
     "output_type": "stream",
     "text": [
      "Obwod trojkata: 12\n"
     ]
    }
   ],
   "source": [
    "trojkat1 = Trojkat(3,4,5,2.4)\n",
    "print(\"Obwod trojkata:\", trojkat1.obwod())"
   ]
  },
  {
   "cell_type": "code",
   "execution_count": 23,
   "id": "7b9e3b0e-1e2e-4195-899d-389c2706f94f",
   "metadata": {},
   "outputs": [
    {
     "name": "stdout",
     "output_type": "stream",
     "text": [
      "Pole: 10\n"
     ]
    }
   ],
   "source": [
    "prostokat1 = Prostokat(2,5)\n",
    "print(\"Pole:\", prostokat1.pole())"
   ]
  },
  {
   "cell_type": "code",
   "execution_count": 24,
   "id": "6993a5d3-4fa2-48f6-8c57-2f55d917853c",
   "metadata": {},
   "outputs": [
    {
     "name": "stdout",
     "output_type": "stream",
     "text": [
      "Obwod:  14\n"
     ]
    }
   ],
   "source": [
    "print(\"Obwod: \", prostokat1.obwod())"
   ]
  },
  {
   "cell_type": "markdown",
   "id": "307a7876-133d-4b91-a208-e7840c4935c2",
   "metadata": {},
   "source": [
    "Zadanie 5\n",
    "Stwórz klasę reprezentującą linię prostą, która przyjmuje w konstruktorze współrzędne obu końców w układzie współrzędnych XY. Klasa implementuje metodę obliczającą długość linii."
   ]
  },
  {
   "cell_type": "code",
   "execution_count": 3,
   "id": "1733d482-0284-4f03-b2da-07db6a19674e",
   "metadata": {},
   "outputs": [],
   "source": [
    "class Linia_prosta:\n",
    "    def __init__(self, x1,y1,x2,y2):\n",
    "        self.x1 = x1\n",
    "        self.y1 = y1\n",
    "        self.x2 = x2\n",
    "        self.y2 = y2\n",
    "\n",
    "    def dlugosc_linii(self):\n",
    "        return ((self.x2 - self.x1)**2 + (self.y2 - self.y1)**2)**0.5\n",
    "\n"
   ]
  },
  {
   "cell_type": "code",
   "execution_count": 27,
   "id": "2a64d3c7-2eac-4332-befc-2262f644020e",
   "metadata": {},
   "outputs": [
    {
     "name": "stdout",
     "output_type": "stream",
     "text": [
      "Dlugosc linii w ukladzie wspolrzednych to:  4.123105625617661\n"
     ]
    }
   ],
   "source": [
    "linia1 = Linia_prosta(2,7,3,11)\n",
    "print(\"Dlugosc linii w ukladzie wspolrzednych to: \", linia1.dlugosc_linii())\n"
   ]
  },
  {
   "cell_type": "markdown",
   "id": "9f07aca4-0aad-42f6-bf88-976f88d168fe",
   "metadata": {},
   "source": [
    "zadanie 6\n",
    "\n",
    "Stwórz klasę reprezentującą wielokąt i przyjmującą w konstruktorze listę kolejnych linii (obiekty klasy z poprzedniego zadania), reprezentujących kolejne boki wielokąta. Klasa powinna sprawdzić, czy dane są poprawne (czy każda linia kończy się tam, gdzie zaczyna następna). Klasa wielokąta implementuje również metodę obliczającą obwód."
   ]
  },
  {
   "cell_type": "code",
   "execution_count": 17,
   "id": "dde3a35d-8787-4135-9756-56bdee624cff",
   "metadata": {},
   "outputs": [],
   "source": [
    "class Wielokat:\n",
    "    def __init__(self, lines):\n",
    "        self.lines = lines\n",
    "\n",
    "    def czy_prawidlowy(self):\n",
    "        for i in range(len(self.lines)-1):\n",
    "            if (self.lines[i].x2, self.lines[i].y2) != (self.lines[i+1].x1, self.lines[i+1].y1):\n",
    "                return False\n",
    "        if (self.lines[-1].x2, self.lines[-1].y2) != (self.lines[0].x1, self.lines[0].y1):\n",
    "            return False\n",
    "        else:\n",
    "            return True       \n",
    "              \n",
    "    def obwod(self):\n",
    "        if self.czy_prawidlowy():\n",
    "            return sum(line.dlugosc_linii() for line in self.lines)\n",
    "        else:\n",
    "            return \"Wielokat jest nieprawidlowy.\""
   ]
  },
  {
   "cell_type": "code",
   "execution_count": 19,
   "id": "ae522de9-648f-4d49-82fd-cd92d910f479",
   "metadata": {},
   "outputs": [
    {
     "data": {
      "text/plain": [
       "12.0"
      ]
     },
     "execution_count": 19,
     "metadata": {},
     "output_type": "execute_result"
    }
   ],
   "source": [
    "l1 = Linia_prosta(0, 0, 3, 0)\n",
    "l2 = Linia_prosta(3, 0, 3, 4)\n",
    "l3 = Linia_prosta(3, 4, 0, 0)\n",
    "\n",
    "prostokat = Wielokat([l1, l2, l3])\n",
    "prostokat.obwod()\n"
   ]
  },
  {
   "cell_type": "code",
   "execution_count": 18,
   "id": "12c1c266-afbe-41c2-8c05-c3d5b192a6cf",
   "metadata": {},
   "outputs": [
    {
     "data": {
      "text/plain": [
       "'Wielokat jest nieprawidlowy.'"
      ]
     },
     "execution_count": 18,
     "metadata": {},
     "output_type": "execute_result"
    }
   ],
   "source": [
    "l12 = Linia_prosta(0,0,3,0)\n",
    "l13 = Linia_prosta(4,0,3,4)\n",
    "l14 = Linia_prosta(3,4,5,6)\n",
    "\n",
    "trojkat = Wielokat([l12,l13,l14])\n",
    "trojkat.obwod()"
   ]
  },
  {
   "cell_type": "code",
   "execution_count": null,
   "id": "e0610bb6-55dc-4aa4-a34a-f036e2cafddb",
   "metadata": {},
   "outputs": [],
   "source": []
  }
 ],
 "metadata": {
  "kernelspec": {
   "display_name": "anaconda-2024.02-py310",
   "language": "python",
   "name": "conda-env-anaconda-2024.02-py310-py"
  },
  "language_info": {
   "codemirror_mode": {
    "name": "ipython",
    "version": 3
   },
   "file_extension": ".py",
   "mimetype": "text/x-python",
   "name": "python",
   "nbconvert_exporter": "python",
   "pygments_lexer": "ipython3",
   "version": "3.10.14"
  }
 },
 "nbformat": 4,
 "nbformat_minor": 5
}
