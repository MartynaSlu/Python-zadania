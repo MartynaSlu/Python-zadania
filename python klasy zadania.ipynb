{
 "cells": [
  {
   "cell_type": "code",
   "execution_count": 24,
   "id": "05938fcf-c609-49bc-be18-5c6523208ee8",
   "metadata": {},
   "outputs": [],
   "source": [
    "#Zadanie 7 - Zwierzęta\n",
    "#Stwórz abstrakcyjną klasę bazową reprezentującą zwierzę. Konstruktor klasy będzie przyjmować parametr reprezentujący imię zwierzęcia. \n",
    "#Klasa będzie mieć 2 metody. Jedna metoda daj_glos będzie abstrakcyjna. Druga metoda powitanie będzie wyświetlać napis, składający się z wartości zwracanej przez daj_glos,\n",
    "#z wyświetlenia imienia zwierzęcia oraz z wyświetlenia jakiego typu (atrybut typ dla klasy) jest zwierzę.\n",
    "\n",
    "#zadanie 8\n",
    "#Stwórz klasy potomne dla klasy bazowej zwierzęcia, reprezentujące psa i kota. W konstruktorze każdej z nich ustaw odpowiednio zmienną\n",
    "#reprezentującą typ zwierzęcia. Zaimplementuj \n",
    "#odpowiednio metodę daj_głos w każdej z klas potomnych. Sprawdź, czy obiekty stworzone z klas Pies i Kot potrafią poprawnie się przywitać.\n",
    "\n",
    "\n",
    "from abc import ABC, abstractmethod\n",
    "\n",
    "class Zwierze(ABC):\n",
    "    def __init__(self, imie):\n",
    "        self.imie = imie\n",
    "        self.typ = None\n",
    "    @abstractmethod\n",
    "    def daj_glos(self):\n",
    "        pass\n",
    "\n",
    "    def powitanie(self):\n",
    "        return f\"zwierze nazywa sie {self.imie}. wydaje dzwiek {self.daj_glos()} i jest to {self.typ.lower()}\"\n",
    "\n",
    "class Kot(Zwierze):\n",
    "    def __init__(self, imie):\n",
    "        super().__init__(imie)\n",
    "        self.typ = \"Kot\"\n",
    "    def daj_glos(self):\n",
    "        return \"Miau!\"\n",
    "        \n",
    "class Pies(Zwierze):\n",
    "    def __init__(self, imie):\n",
    "        super().__init__(imie)\n",
    "        self.typ = \"Pies\"\n",
    "    def daj_glos(self):\n",
    "        return \"Hau!\""
   ]
  },
  {
   "cell_type": "code",
   "execution_count": 25,
   "id": "a059a1bd-068f-4dde-b9d5-32f4534a078d",
   "metadata": {},
   "outputs": [
    {
     "name": "stdout",
     "output_type": "stream",
     "text": [
      "Miau!\n",
      "zwierze nazywa sie Mruczek. wydaje dzwiek Miau! i jest to kot\n",
      "Hau!\n",
      "zwierze nazywa sie Reksio. wydaje dzwiek Hau! i jest to pies\n"
     ]
    }
   ],
   "source": [
    "kot = Kot(\"Mruczek\")\n",
    "print(kot.daj_glos())\n",
    "print(kot.powitanie())\n",
    "\n",
    "pies = Pies(\"Reksio\")\n",
    "print(pies.daj_glos())\n",
    "print(pies.powitanie())"
   ]
  },
  {
   "cell_type": "code",
   "execution_count": null,
   "id": "13583720-d54a-4d50-9ea8-1acc856c746e",
   "metadata": {},
   "outputs": [],
   "source": []
  }
 ],
 "metadata": {
  "kernelspec": {
   "display_name": "anaconda-panel-2023.05-py310",
   "language": "python",
   "name": "conda-env-anaconda-panel-2023.05-py310-py"
  },
  "language_info": {
   "codemirror_mode": {
    "name": "ipython",
    "version": 3
   },
   "file_extension": ".py",
   "mimetype": "text/x-python",
   "name": "python",
   "nbconvert_exporter": "python",
   "pygments_lexer": "ipython3",
   "version": "3.11.5"
  }
 },
 "nbformat": 4,
 "nbformat_minor": 5
}
